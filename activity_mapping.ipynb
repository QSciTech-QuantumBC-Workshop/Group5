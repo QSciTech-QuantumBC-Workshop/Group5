{
 "cells": [
  {
   "cell_type": "code",
   "execution_count": 1,
   "metadata": {},
   "outputs": [],
   "source": [
    "import numpy as np\n",
    "%load_ext autoreload\n",
    "%autoreload 0"
   ]
  },
  {
   "cell_type": "markdown",
   "metadata": {},
   "source": [
    "Notebook by **Maxime Dion** <maxime.dion@usherbrooke.ca><br>\n",
    "For the QSciTech-QuantumBC virtual workshop on gate-based quantum computing"
   ]
  },
  {
   "cell_type": "markdown",
   "metadata": {
    "jp-MarkdownHeadingCollapsed": true,
    "tags": []
   },
   "source": [
    "## Tutorial for the Mapping Activity\n",
    "\n",
    "For this activity, make sure you can easily import your versions of `hamiltonian.py`, `pauli_string.py` and `mapping.py`. Placing this notebook in the same `path` as these files is the easiest way to acheive this. At the end of this notebook, you should be in good position to complete these 3 files.\n",
    "\n",
    "The solution we suggest here is NOT mandatory. If you find ways to make it better and more efficient, go on and impress us! On the other hand, by completing all sections of this notebook you will be able to :\n",
    "- Create `PauliString` instances\n",
    "- Multiply `PauliString` together\n",
    "- Translate a PauliString into a unitary matrix of size `(2**n)**2` (optionnal)\n",
    "- Create `LinearCombinaisonPauliString` instances\n",
    "- Multiply and add `LinearCombinaisonPauliString` together\n",
    "- Combine repeated `PauliString`s in `LinearCombinaisonPauliString`\n",
    "- Use the Jordan-Wigner mapping to translate Fermionic Operators in `LinearCombinaisonPauliString`s\n",
    "- Use the Jordan-Wigner mapping to map a `FermionicHamiltonian` into a `LinearCombinaisonPauliString`.\n",
    "\n",
    "**Important**\n",
    "\n",
    "When you modify and save a `*.py` file you need to re-import it so that your modifications can be taken into account when you re-execute a call. By adding the magic command `%autoreload` at the beginning of a cell, you make sure that the modifications you did to the `*.py` files are taken into account when you re-run a cell and that you can see the effect.\n",
    "\n",
    "If you encounter unusual results, restart the kernel and try again.\n",
    "\n",
    "**Note on numbering**\n",
    "\n",
    "When you ask a question you can refer to the section name or the section number.\n",
    "\n",
    "To enable the section numbering, please make sure you install [nbextensions](https://jupyter-contrib-nbextensions.readthedocs.io/en/latest/install.html). It is available in the conda distribution. After installation it you need to enable the option 'Table of contents (2)'."
   ]
  },
  {
   "cell_type": "markdown",
   "metadata": {},
   "source": [
    "# PauliStrings\n",
    "\n",
    "The `PauliString` class is partially implemented in the file `PauliString.py`. "
   ]
  },
  {
   "cell_type": "code",
   "execution_count": 2,
   "metadata": {},
   "outputs": [],
   "source": [
    "from pauli_string import PauliString"
   ]
  },
  {
   "cell_type": "markdown",
   "metadata": {},
   "source": [
    "## Creation\n",
    "\n",
    "This object's attributes are 2 arrays of booleans `z_bits` and `x_bits`. You can easily create an instance and print the result. The `__str__` method is already implemented so you can use `print()` on it. The boolean arrays in input are in the `0123` order and the output string is in the reversed `q3q2q1q0` order. Here we initialize the Pauli string `YXZI = -1j*(ZIZI)*(XXII)`."
   ]
  },
  {
   "cell_type": "code",
   "execution_count": 3,
   "metadata": {},
   "outputs": [
    {
     "name": "stdout",
     "output_type": "stream",
     "text": [
      "YXZI\n"
     ]
    }
   ],
   "source": [
    "z_bits = np.array([0,1,0,1],dtype = bool)\n",
    "x_bits = np.array([0,0,1,1],dtype = bool)\n",
    "pauli_string = PauliString(z_bits,x_bits)\n",
    "print(pauli_string)"
   ]
  },
  {
   "cell_type": "markdown",
   "metadata": {},
   "source": [
    "### Creation exercice\n",
    "\n",
    "Create the `ZZXY` Pauli string. Remember that the arrays are in the 0...n order, but the string representation in the reverse order. The `print` should return `ZZXY`."
   ]
  },
  {
   "cell_type": "code",
   "execution_count": 4,
   "metadata": {},
   "outputs": [
    {
     "name": "stdout",
     "output_type": "stream",
     "text": [
      "ZZXY\n"
     ]
    }
   ],
   "source": [
    "z_bits = np.array([1,0,1,1],dtype = bool)\n",
    "x_bits = np.array([1,1,0,0],dtype = bool)\n",
    "print(PauliString(z_bits,x_bits))"
   ]
  },
  {
   "cell_type": "markdown",
   "metadata": {},
   "source": [
    "### Creation from string\n",
    "While this will not be a useful way to create PauliString in the H2 solution, it will be practical for this notebook and for debugging. Implement the `@classmethod` method `from_str` that takes a string like `YXZI` to build a `PauliString`."
   ]
  },
  {
   "cell_type": "code",
   "execution_count": 5,
   "metadata": {},
   "outputs": [
    {
     "name": "stdout",
     "output_type": "stream",
     "text": [
      "YXZI\n"
     ]
    }
   ],
   "source": [
    "%autoreload\n",
    "pauli_string = PauliString.from_str('YXZI')\n",
    "print(pauli_string)"
   ]
  },
  {
   "cell_type": "markdown",
   "metadata": {},
   "source": [
    "### Useful methods\n",
    "\n",
    "In order to compare `PauliString`s together it's convenient to represent it as `zx_bits` which is an array twice as long that combines `z_bits` and `x_bits`. Implement the `to_zx_bits()` method. Why not do the `to_xz_bits()` while your at it!\n",
    "\n",
    "You should get :\n",
    "\n",
    "<code>\n",
    "[False  True False  True False False  True  True]<br>[False False  True  True False  True False  True]\n",
    "</code>"
   ]
  },
  {
   "cell_type": "code",
   "execution_count": 6,
   "metadata": {},
   "outputs": [
    {
     "name": "stdout",
     "output_type": "stream",
     "text": [
      "[False  True False  True False False  True  True]\n",
      "[False False  True  True False  True False  True]\n"
     ]
    }
   ],
   "source": [
    "%autoreload\n",
    "pauli_string = PauliString.from_str('YXZI')\n",
    "zx_bits = pauli_string.to_zx_bits()\n",
    "print(zx_bits)\n",
    "xz_bits = pauli_string.to_xz_bits()\n",
    "print(xz_bits)"
   ]
  },
  {
   "cell_type": "markdown",
   "metadata": {},
   "source": [
    "It's also useful to know where are the $\\hat{I}$ in a `PauliString`. Implement the method that does this. You should get \n",
    "\n",
    "<code>[ True False False False]</code>"
   ]
  },
  {
   "cell_type": "code",
   "execution_count": 7,
   "metadata": {},
   "outputs": [
    {
     "name": "stdout",
     "output_type": "stream",
     "text": [
      "[ True False False False]\n"
     ]
    }
   ],
   "source": [
    "%autoreload\n",
    "pauli_string = PauliString.from_str('YXZI')\n",
    "ids = pauli_string.ids()\n",
    "print(ids)"
   ]
  },
  {
   "cell_type": "markdown",
   "metadata": {},
   "source": [
    "### Create with `zx`\n",
    "\n",
    "Sometimes it will be convenient to create a `PauliString` from a single array `zx_bits`. Implement the `from_zx_bits()` method in order for this cell to return `YXZI`."
   ]
  },
  {
   "cell_type": "code",
   "execution_count": 8,
   "metadata": {},
   "outputs": [
    {
     "name": "stdout",
     "output_type": "stream",
     "text": [
      "YXZI\n"
     ]
    }
   ],
   "source": [
    "%autoreload\n",
    "z_bits = np.array([0,1,0,1],dtype = bool)\n",
    "x_bits = np.array([0,0,1,1],dtype = bool)\n",
    "zx_bits = np.concatenate((z_bits,x_bits))\n",
    "pauli_string = PauliString.from_zx_bits(zx_bits)\n",
    "print(pauli_string)"
   ]
  },
  {
   "cell_type": "markdown",
   "metadata": {},
   "source": [
    "## Multiplication with another PauliString\n",
    "\n",
    "Multiplying `PauliString`s is essential to be able to translate Fermionic Hamiltonians into a qubit Hamiltonian. \n",
    "\n",
    "Before you implement the method that will allow you to do this, you should experiment a bit with how boolean arrays behave. Take a look at methods like `np.dot()`, `np.logical_and()`, `np.logical_or()` and `np.logical_xor()`. In particular, notice that the addition `+` on booleans is not a (mod 2) addition (it's a `logical_or`) and the `np.sum()` method on a boolean array counts the number of 1 and returns an `int`."
   ]
  },
  {
   "cell_type": "code",
   "execution_count": 9,
   "metadata": {},
   "outputs": [
    {
     "name": "stdout",
     "output_type": "stream",
     "text": [
      "[False  True  True  True]\n",
      "2\n"
     ]
    }
   ],
   "source": [
    "bits_1 = np.array([0,1,0,1],dtype = bool)\n",
    "bits_2 = np.array([0,1,1,1],dtype = bool)\n",
    "print(bits_1 + bits_2)\n",
    "print(np.sum(bits_1))\n",
    "# Experiment"
   ]
  },
  {
   "cell_type": "markdown",
   "metadata": {},
   "source": [
    "With these considarations, implement the `mul_pauli_string()` method in order to replicate the product\n",
    "\n",
    "\\begin{align}\n",
    "\\hat{I}\\hat{Y}\\hat{Z}\\hat{Z} \\times \\hat{I}\\hat{I}\\hat{X}\\hat{Z}  = i \\hat{I}\\hat{Y}\\hat{Y}\\hat{I}.\n",
    "\\end{align}\n",
    "\n",
    "The product return a `PauliString` and a phase (`complex`). The method `__mul__()` is already implemeted to call `mul_pauli_string()` so you can use `*` to do the product."
   ]
  },
  {
   "cell_type": "code",
   "execution_count": 10,
   "metadata": {},
   "outputs": [
    {
     "name": "stdout",
     "output_type": "stream",
     "text": [
      "YYYZ (-0-1j)\n"
     ]
    }
   ],
   "source": [
    "%autoreload\n",
    "pauli_string_1 = PauliString.from_str('ZZZZ')\n",
    "pauli_string_2 = PauliString.from_str('XXXI')\n",
    "# print(isinstance(pauli_string_1, PauliString))\n",
    "new_pauli_string, phase = pauli_string_1 * pauli_string_2\n",
    "print(new_pauli_string, phase)"
   ]
  },
  {
   "cell_type": "markdown",
   "metadata": {},
   "source": [
    "Check your solution on many pairs of Pauli strings like \n",
    "\n",
    "\\begin{align}\n",
    "\\hat{Z}\\hat{Z}\\hat{Z}\\hat{Z} \\times \\hat{X}\\hat{X}\\hat{X}\\hat{I}  = -i \\hat{Y}\\hat{Y}\\hat{Y}\\hat{Z}.\n",
    "\\end{align}"
   ]
  },
  {
   "cell_type": "code",
   "execution_count": 11,
   "metadata": {},
   "outputs": [
    {
     "name": "stdout",
     "output_type": "stream",
     "text": [
      "YYYZZ (-1+0j)\n"
     ]
    }
   ],
   "source": [
    "%autoreload\n",
    "pauli_string_1 = PauliString.from_str('ZZZZY')\n",
    "pauli_string_2 = PauliString.from_str('XXXIX')\n",
    "new_pauli_string, phase = pauli_string_1 * pauli_string_2\n",
    "print(new_pauli_string, phase)"
   ]
  },
  {
   "cell_type": "markdown",
   "metadata": {},
   "source": [
    "## Matrix representation (optional)\n",
    "The matrix reprensetation of `PauliString` will only be used to compute the exact solution of the Hamiltonian. It will not be used for quantum computing, but it's a nice way to validate your results.\n",
    "\n",
    "Any Pauli string can be converted into a matrix. This is useful to find the exact solution for small systems. To combine the space of two qubits we use the [Kronecker product](https://en.wikipedia.org/wiki/Kronecker_product) ($\\otimes$). For example, the `ZX` Pauli string can be represented as the following matrix\n",
    "\n",
    "\\begin{align}\n",
    "    \\hat{Z}_1\\hat{X}_0 = \\hat{Z}_1\\otimes\\hat{X}_0 &= \\begin{pmatrix} 1 \\times \\hat{X}_0 & 0 \\\\ 0 & -1 \\times \\hat{X}_0 \\end{pmatrix} \\\\\n",
    "    &= \\begin{pmatrix} 0 & 1 & 0 & 0 \\\\ 1 & 0 & 0 & 0 \\\\ 0 & 0 & 0 & -1 \\\\ 0 & 0 & -1 & 0 \\end{pmatrix}\n",
    "\\end{align}\n",
    "\n",
    "which is expressed in the basis\n",
    "\n",
    "\\begin{align}\n",
    "    |00\\rangle, |01\\rangle, |10\\rangle, |11\\rangle.\n",
    "\\end{align} \n",
    "\n",
    "Indeed we verify that\n",
    "\n",
    "\\begin{align}\n",
    "    \\hat{Z}_1\\hat{X}_0 |10\\rangle &= - |11\\rangle \\\\\n",
    "    \\begin{pmatrix} 0 & 1 & 0 & 0 \\\\ 1 & 0 & 0 & 0 \\\\ 0 & 0 & 0 & -1 \\\\ 0 & 0 & -1 & 0 \\end{pmatrix}\\begin{pmatrix} 0 \\\\ 0 \\\\ 1 \\\\ 0 \\end{pmatrix} &= -\\begin{pmatrix} 0 \\\\ 0 \\\\ 0 \\\\ 1 \\end{pmatrix}\n",
    "\\end{align}"
   ]
  },
  {
   "cell_type": "markdown",
   "metadata": {},
   "source": [
    "The `np.kron()` method is a good way to acheive this. The previous 2 Pauli strings can be turned into a $4\\times 4$ matrix like this."
   ]
  },
  {
   "cell_type": "code",
   "execution_count": 12,
   "metadata": {},
   "outputs": [
    {
     "name": "stdout",
     "output_type": "stream",
     "text": [
      "[[ 1  0]\n",
      " [ 0 -1]]\n",
      "[[0 1]\n",
      " [1 0]]\n",
      "[[ 0  1  0  0]\n",
      " [ 1  0  0  0]\n",
      " [ 0  0  0 -1]\n",
      " [ 0  0 -1  0]]\n"
     ]
    }
   ],
   "source": [
    "z_matrix = np.array([[1,0],[0,-1]],dtype = int)\n",
    "x_matrix = np.array([[0,1],[1,0]],dtype = int)\n",
    "print(z_matrix)\n",
    "print(x_matrix)\n",
    "zx_matrix = np.kron(z_matrix,x_matrix)\n",
    "print(zx_matrix)"
   ]
  },
  {
   "cell_type": "markdown",
   "metadata": {},
   "source": [
    "Implement the `to_matrix()` method for any Pauli string and try it to find the matrix form of `ZX`."
   ]
  },
  {
   "cell_type": "code",
   "execution_count": 13,
   "metadata": {},
   "outputs": [
    {
     "name": "stdout",
     "output_type": "stream",
     "text": [
      "ZYX\n",
      "real part = \n",
      " [[ 0.  0.  0.  0.  0.  0.  0.  0.]\n",
      " [ 0. -0.  0.  0.  0. -0.  0.  0.]\n",
      " [ 0.  0.  0.  0.  0.  0.  0.  0.]\n",
      " [ 0. -0.  0. -0.  0. -0.  0. -0.]\n",
      " [ 0.  0.  0.  0.  0.  0.  0.  0.]\n",
      " [ 0. -0.  0.  0.  0. -0.  0.  0.]\n",
      " [ 0.  0.  0.  0.  0.  0.  0.  0.]\n",
      " [ 0. -0.  0. -0.  0. -0.  0. -0.]]\n",
      "imaginary part = \n",
      " [[ 0.  0.  0.  0.  0.  0. -1.  0.]\n",
      " [ 0.  0.  0.  0.  0.  0.  0.  1.]\n",
      " [ 0.  0.  0.  0.  1.  0.  0.  0.]\n",
      " [ 0.  0.  0.  0.  0. -1.  0.  0.]\n",
      " [ 0.  0. -1.  0.  0.  0.  0.  0.]\n",
      " [ 0.  0.  0.  1.  0.  0.  0.  0.]\n",
      " [ 1.  0.  0.  0.  0.  0.  0.  0.]\n",
      " [ 0. -1.  0.  0.  0.  0.  0.  0.]]\n"
     ]
    }
   ],
   "source": [
    "%autoreload\n",
    "pauli_string = PauliString.from_str('ZYX')\n",
    "print(pauli_string)\n",
    "matrix = pauli_string.to_matrix()\n",
    "print('real part = \\n', matrix.real)\n",
    "print('imaginary part = \\n', matrix.imag)"
   ]
  },
  {
   "cell_type": "markdown",
   "metadata": {},
   "source": [
    "# LinearCombinaisonPauliString\n",
    "The `LinearCombinaisonPauliString` class is partially implemented in the file `PauliString.py`. We will use `LCPS` for short."
   ]
  },
  {
   "cell_type": "code",
   "execution_count": 14,
   "metadata": {},
   "outputs": [],
   "source": [
    "from pauli_string import LinearCombinaisonPauliString, PauliString"
   ]
  },
  {
   "cell_type": "markdown",
   "metadata": {},
   "source": [
    "## Creation\n",
    "To build a `LCPS` you only need to provide an `numpy.array` of coefficients (`complex`) and a `numpy.array` of `PauliString`. If they are not arrays, they will be converted. Here again the `__str__()` method is already implemented."
   ]
  },
  {
   "cell_type": "code",
   "execution_count": 15,
   "metadata": {},
   "outputs": [
    {
     "name": "stdout",
     "output_type": "stream",
     "text": [
      "2 pauli strings for 4 qubits (Real, Imaginary)\n",
      "IIXZ (+0.50000,+0.00000)\n",
      "IYZZ (+0.50000,+0.00000)\n"
     ]
    }
   ],
   "source": [
    "coefs = np.array([0.5,0.5],dtype = complex)\n",
    "pauli_string_1 = PauliString.from_str('IIXZ')\n",
    "pauli_string_2 = PauliString.from_str('IYZZ')\n",
    "pauli_strings = np.array([pauli_string_1,pauli_string_2],dtype = PauliString)\n",
    "lcps = LinearCombinaisonPauliString(coefs,pauli_strings)\n",
    "print(lcps)"
   ]
  },
  {
   "cell_type": "markdown",
   "metadata": {},
   "source": [
    "### Multiplication of a PauliString by a coefficient\n",
    "Multiplying a `PauliString` by a number is a useful way to create a `LCPS` with only 1 `PauliString`. Implement the method `mul_coef` in the `PauliString` class so that you can easily create a `LCPS`."
   ]
  },
  {
   "cell_type": "code",
   "execution_count": 16,
   "metadata": {},
   "outputs": [
    {
     "name": "stdout",
     "output_type": "stream",
     "text": [
      "1\n",
      "1 pauli strings for 4 qubits (Real, Imaginary)\n",
      "IIXZ (+1.00000,+0.00000)\n"
     ]
    }
   ],
   "source": [
    "%autoreload\n",
    "print(len([PauliString.from_str('IIXZ')]))\n",
    "lcps_single = 1*PauliString.from_str('IIXZ')\n",
    "print(lcps_single)"
   ]
  },
  {
   "cell_type": "markdown",
   "metadata": {},
   "source": [
    "### Addition of LCPSs\n",
    "The sum of two `LCPS`s is just the union of these two ensembles. Implement `add_pauli_string_linear_combinaison()` and test your solution here. The `__add__()` method is already implemented to call `add_pauli_string_linear_combinaison()` so you can use the `+` operator."
   ]
  },
  {
   "cell_type": "code",
   "execution_count": 17,
   "metadata": {},
   "outputs": [
    {
     "name": "stdout",
     "output_type": "stream",
     "text": [
      "2 pauli strings for 4 qubits (Real, Imaginary)\n",
      "IIXZ (+0.50000,+0.00000)\n",
      "IYXZ (+0.00000,+0.50000)\n"
     ]
    }
   ],
   "source": [
    "%autoreload\n",
    "pauli_string_1 = PauliString.from_str('IIXZ')\n",
    "pauli_string_2 = PauliString.from_str('IYXZ')\n",
    "lcps = 0.5*pauli_string_1 + 0.5j*pauli_string_2\n",
    "# lcps = 2*lcps + 0.2j*pauli_string_1\n",
    "print(lcps)"
   ]
  },
  {
   "cell_type": "markdown",
   "metadata": {},
   "source": [
    "### Product of LCPSs\n",
    "The product of two `LCPS`s can be computed using the distributive property of any sum. While you implement `mul_linear_combinaison_pauli_string()` make sure you take into account the phase coming from the product of two `PauliString`s. You can test your code on the following cell."
   ]
  },
  {
   "cell_type": "code",
   "execution_count": 18,
   "metadata": {},
   "outputs": [
    {
     "name": "stdout",
     "output_type": "stream",
     "text": [
      "1 pauli strings for 4 qubits (Real, Imaginary)\n",
      "IYYI (+0.00000,-1.00000)\n"
     ]
    }
   ],
   "source": [
    "%autoreload\n",
    "from pauli_string import LinearCombinaisonPauliString, PauliString  # becuase it's ridiclous\n",
    "lcps_1 = 1*PauliString.from_str('IIXZ')\n",
    "lcps_2 = 1*PauliString.from_str('IYZZ')\n",
    "lcps_3 = 0.1j*PauliString.from_str('IYZX')\n",
    "new_lcps = lcps_1 * lcps_2\n",
    "# new_lcps = (lcps_1 + -0.2j*lcps_3) * (lcps_2 + lcps_1)\n",
    "print(new_lcps)"
   ]
  },
  {
   "cell_type": "markdown",
   "metadata": {},
   "source": [
    "You should get:\n",
    "\n",
    "<code>\n",
    "1 pauli strings for 4 qubits (Real, Imaginary)<br>IYYI (+0.00000,-1.00000)\n",
    "</code>"
   ]
  },
  {
   "cell_type": "markdown",
   "metadata": {},
   "source": [
    "With addition and multiplication, `LCPS`s are much more convenient to work with than `PauliString`s because they carry the possible phase from the product."
   ]
  },
  {
   "cell_type": "markdown",
   "metadata": {},
   "source": [
    "## Accessing subset of a LCPS\n",
    "A `__getitem__()` method is already implemented to access subset of the `LCPS`. You can use indices and slices, like a `list` or an `np.array`."
   ]
  },
  {
   "cell_type": "code",
   "execution_count": 19,
   "metadata": {},
   "outputs": [
    {
     "name": "stdout",
     "output_type": "stream",
     "text": [
      "1 pauli strings for 4 qubits (Real, Imaginary)\n",
      "IIIZ (+1.00000,+0.00000)\n",
      "2 pauli strings for 4 qubits (Real, Imaginary)\n",
      "IIZI (+1.00000,+0.00000)\n",
      "IZII (+1.00000,+0.00000)\n",
      "1 pauli strings for 4 qubits (Real, Imaginary)\n",
      "ZIII (+1.00000,+0.00000)\n"
     ]
    }
   ],
   "source": [
    "lcps = 1*PauliString.from_str('IIIZ') + 1*PauliString.from_str('IIZI') + 1*PauliString.from_str('IZII') + 1*PauliString.from_str('ZIII')\n",
    "print(lcps[0])\n",
    "print(lcps[1:3])\n",
    "print(lcps[-1])"
   ]
  },
  {
   "cell_type": "markdown",
   "metadata": {},
   "source": [
    "## Useful methods\n",
    "Your already implemented `to_zx_bits()`, `to_xz_bits()` and `ids()` for the `PauliString`. Implement similar methods for `LCPS` where the bits are stored in a `ndarray` of dimension 2."
   ]
  },
  {
   "cell_type": "code",
   "execution_count": 20,
   "metadata": {},
   "outputs": [
    {
     "name": "stdout",
     "output_type": "stream",
     "text": [
      "zx_bits\n",
      "4 pauli strings for 4 qubits (Real, Imaginary)\n",
      "IIIZ (+1.00000,+0.00000)\n",
      "IIZI (+1.00000,+0.00000)\n",
      "IZII (+1.00000,+0.00000)\n",
      "ZIII (+1.00000,+0.00000)\n",
      "[[ True False False False False False False False]\n",
      " [False  True False False False False False False]\n",
      " [False False  True False False False False False]\n",
      " [False False False  True False False False False]]\n"
     ]
    }
   ],
   "source": [
    "%autoreload\n",
    "print('zx_bits')\n",
    "print(lcps)\n",
    "zx_bits = lcps.to_zx_bits()\n",
    "print(zx_bits)"
   ]
  },
  {
   "cell_type": "code",
   "execution_count": 21,
   "metadata": {},
   "outputs": [
    {
     "name": "stdout",
     "output_type": "stream",
     "text": [
      "xz_bits\n",
      "[[False False False False  True False False False]\n",
      " [False False False False False  True False False]\n",
      " [False False False False False False  True False]\n",
      " [False False False False False False False  True]]\n"
     ]
    }
   ],
   "source": [
    "%autoreload\n",
    "print('xz_bits')\n",
    "xz_bits = lcps.to_xz_bits()\n",
    "print(xz_bits)"
   ]
  },
  {
   "cell_type": "code",
   "execution_count": 22,
   "metadata": {},
   "outputs": [
    {
     "name": "stdout",
     "output_type": "stream",
     "text": [
      "ids\n",
      "4 pauli strings for 4 qubits (Real, Imaginary)\n",
      "IIIZ (+1.00000,+0.00000)\n",
      "IIZI (+1.00000,+0.00000)\n",
      "IZII (+1.00000,+0.00000)\n",
      "ZIII (+1.00000,+0.00000)\n",
      "[[False  True  True  True]\n",
      " [ True False  True  True]\n",
      " [ True  True False  True]\n",
      " [ True  True  True False]]\n"
     ]
    }
   ],
   "source": [
    "%autoreload\n",
    "print('ids')\n",
    "print(lcps)\n",
    "ids = lcps.ids()\n",
    "print(ids)"
   ]
  },
  {
   "cell_type": "markdown",
   "metadata": {},
   "source": [
    "## Combinaison and threshold\n",
    "When a `PauliString` is present many times in a `LCPS`, it is convenient to be able to remove extra occurences by combining the respective coefficients. Let's take the example from the presentation."
   ]
  },
  {
   "cell_type": "code",
   "execution_count": 23,
   "metadata": {},
   "outputs": [
    {
     "name": "stdout",
     "output_type": "stream",
     "text": [
      "4 pauli strings for 4 qubits (Real, Imaginary)\n",
      "ZZZZ (+1.00000,+0.00000)\n",
      "ZZIZ (+0.50000,+0.00000)\n",
      "ZZIZ (-0.50000,+0.00000)\n",
      "ZZZZ (-0.25000,+0.00000)\n"
     ]
    }
   ],
   "source": [
    "from pauli_string import LinearCombinaisonPauliString, PauliString  # becuase it's ridiculous\n",
    "lcps_1 = 1*PauliString.from_str('IIIZ') + - 0.5*PauliString.from_str('IIZZ')\n",
    "lcps_2 = 1*PauliString.from_str('ZZZI') + 0.5*PauliString.from_str('ZZII') \n",
    "lcps_3 = lcps_1 * lcps_2\n",
    "print(lcps_3)"
   ]
  },
  {
   "cell_type": "markdown",
   "metadata": {},
   "source": [
    "We see that `ZZZZ` occurs 2 times and `ZZIZ` occurs 2 times as well.\n",
    "\n",
    "Implement the `combine()` method to reduce the `LCPS` to 2 `PauliString`s. There are many ways to do that. Suggestion, convert with `to_zx_bits()` and use the `np.unique()` method. DO NOT remove `PauliString`s with `0` coef yet."
   ]
  },
  {
   "cell_type": "code",
   "execution_count": 24,
   "metadata": {},
   "outputs": [
    {
     "name": "stdout",
     "output_type": "stream",
     "text": [
      "4 pauli strings for 4 qubits (Real, Imaginary)\n",
      "ZZZZ (+1.00000,+0.00000)\n",
      "ZZIZ (+0.50000,+0.00000)\n",
      "ZZIZ (-0.50000,+0.00000)\n",
      "ZZZZ (-0.25000,+0.00000)\n",
      "2 pauli strings for 4 qubits (Real, Imaginary)\n",
      "ZZIZ (+0.00000,+0.00000)\n",
      "ZZZZ (+0.75000,+0.00000)\n"
     ]
    }
   ],
   "source": [
    "%autoreload\n",
    "print(lcps_3)\n",
    "lcps_combined = lcps_3.combine()\n",
    "print(lcps_combined)"
   ]
  },
  {
   "cell_type": "markdown",
   "metadata": {},
   "source": [
    "You should get:\n",
    "\n",
    "<code>\n",
    "2 pauli strings for 4 qubits (Real, Imaginary)<br>ZZIZ (+0.00000,+0.00000)<br>ZZZZ (+0.75000,+0.00000)\n",
    "</code>"
   ]
  },
  {
   "cell_type": "markdown",
   "metadata": {},
   "source": [
    "Implement the `apply_threshold()` method to get rid of any Pauli string with a coefficient smaller than the `threshold`."
   ]
  },
  {
   "cell_type": "code",
   "execution_count": 25,
   "metadata": {},
   "outputs": [
    {
     "name": "stdout",
     "output_type": "stream",
     "text": [
      "1 pauli strings for 4 qubits (Real, Imaginary)\n",
      "ZZZZ (+0.75000,+0.00000)\n"
     ]
    }
   ],
   "source": [
    "%autoreload\n",
    "lcps = lcps_combined.apply_threshold()\n",
    "print(lcps)"
   ]
  },
  {
   "cell_type": "markdown",
   "metadata": {},
   "source": [
    "You should get:\n",
    "\n",
    "<code>\n",
    "1 pauli strings for 4 qubits (Real, Imaginary)<br>ZZZZ (+0.75000,+0.00000)\n",
    "</code>"
   ]
  },
  {
   "cell_type": "markdown",
   "metadata": {},
   "source": [
    "## Sort\n",
    "The resulting `LCPS` after calling `combine()` and `apply_threshold()` can be pretty random. It's useful to be able to sort it.\n",
    "\n",
    "We suggest you implement the `sort()` method using the `zx_bits()`."
   ]
  },
  {
   "cell_type": "code",
   "execution_count": 26,
   "metadata": {},
   "outputs": [
    {
     "name": "stdout",
     "output_type": "stream",
     "text": [
      "1 pauli strings for 4 qubits (Real, Imaginary)\n",
      "ZZZZ (+0.75000,+0.00000)\n",
      "4 pauli strings for 4 qubits (Real, Imaginary)\n",
      "IIIZ (+1.00000,+0.00000)\n",
      "IIZZ (-0.50000,+0.00000)\n",
      "ZZII (+0.50000,+0.00000)\n",
      "ZZZI (+1.00000,+0.00000)\n"
     ]
    }
   ],
   "source": [
    "%autoreload\n",
    "print(lcps)\n",
    "lcps = (lcps_1 + lcps_2).sort()\n",
    "print(lcps)"
   ]
  },
  {
   "cell_type": "markdown",
   "metadata": {},
   "source": [
    "## Matrix representation (optional)\n",
    "\n",
    "The `LCPS` can be represented as a matrix. This matrix is just the linear combinaison of the matrices representing each Pauli string. Implement the `to_matrix()` method."
   ]
  },
  {
   "cell_type": "code",
   "execution_count": 27,
   "metadata": {},
   "outputs": [
    {
     "name": "stdout",
     "output_type": "stream",
     "text": [
      "[[ 1.+0.j  0.+0.j  0.+0.j  2.+0.j]\n",
      " [ 0.+0.j -1.+0.j  2.+0.j  0.+0.j]\n",
      " [ 0.+0.j  2.+0.j -1.+0.j  0.+0.j]\n",
      " [ 2.+0.j  0.+0.j  0.+0.j  1.+0.j]]\n"
     ]
    }
   ],
   "source": [
    "%autoreload\n",
    "small_lcps = 1*PauliString.from_str('ZZ') + 2*PauliString.from_str('XX')\n",
    "matrix = small_lcps.to_matrix()\n",
    "print(matrix)"
   ]
  },
  {
   "cell_type": "markdown",
   "metadata": {},
   "source": [
    "You should get :\n",
    "\n",
    "<code>\n",
    "[[ 1.+0.j  0.+0.j  0.+0.j  2.+0.j]<br> [ 0.+0.j -1.+0.j  2.+0.j  0.+0.j]<br> [ 0.+0.j  2.+0.j -1.+0.j  0.+0.j]<br> [ 2.+0.j  0.+0.j  0.+0.j  1.+0.j]] \n",
    "</code>"
   ]
  },
  {
   "cell_type": "markdown",
   "metadata": {},
   "source": [
    "# Mapping\n",
    "You are now in good position to implement your first mapping. The abstract class `Mapping` and the class `JordanWigner` are partially implemented in the file `Mapping.py`."
   ]
  },
  {
   "cell_type": "code",
   "execution_count": 28,
   "metadata": {},
   "outputs": [],
   "source": [
    "from mapping import JordanWigner"
   ]
  },
  {
   "cell_type": "markdown",
   "metadata": {},
   "source": [
    "## Jordan-Wigner\n",
    "The goal of the mapping is to translate creation and annihilation fermionic operators into `LinearCombinaisonPauliString`. You now need to implement `fermionic_creation_annihilation_operators()` of the `JordanWigner` class. It should return 2 lists of `LinearCombinaisonPauliString`s, one `list` for the 4 creation operators and one `list` for the 4 annihilation operators. You can make use of the addition and multipliation method you implemented earlier.\n",
    "\n",
    "Refer to the presentation of activity 3.1 for the general structure of the Jordan-Wigner mapping. Make sure your method works for different numbers of qubits."
   ]
  },
  {
   "cell_type": "code",
   "execution_count": 29,
   "metadata": {},
   "outputs": [
    {
     "name": "stdout",
     "output_type": "stream",
     "text": [
      "4 creation operators\n",
      "4 annihilation operators\n",
      "Creation operators\n",
      "2 pauli strings for 4 qubits (Real, Imaginary)\n",
      "IIIX (+0.50000,+0.00000)\n",
      "IIIY (-0.00000,-0.50000)\n",
      "2 pauli strings for 4 qubits (Real, Imaginary)\n",
      "IIXZ (+0.50000,+0.00000)\n",
      "IIYZ (-0.00000,-0.50000)\n",
      "2 pauli strings for 4 qubits (Real, Imaginary)\n",
      "IXZZ (+0.50000,+0.00000)\n",
      "IYZZ (-0.00000,-0.50000)\n",
      "2 pauli strings for 4 qubits (Real, Imaginary)\n",
      "XZZZ (+0.50000,+0.00000)\n",
      "YZZZ (-0.00000,-0.50000)\n",
      "\n",
      "Annihilation operators\n",
      "2 pauli strings for 4 qubits (Real, Imaginary)\n",
      "IIIX (+0.50000,+0.00000)\n",
      "IIIY (+0.00000,+0.50000)\n",
      "2 pauli strings for 4 qubits (Real, Imaginary)\n",
      "IIXZ (+0.50000,+0.00000)\n",
      "IIYZ (+0.00000,+0.50000)\n",
      "2 pauli strings for 4 qubits (Real, Imaginary)\n",
      "IXZZ (+0.50000,+0.00000)\n",
      "IYZZ (+0.00000,+0.50000)\n",
      "2 pauli strings for 4 qubits (Real, Imaginary)\n",
      "XZZZ (+0.50000,+0.00000)\n",
      "YZZZ (+0.00000,+0.50000)\n"
     ]
    }
   ],
   "source": [
    "%autoreload\n",
    "mapping = JordanWigner()\n",
    "creation_operators, annihilation_operators = mapping.fermionic_creation_annihilation_operators(4)\n",
    "print(len(creation_operators), 'creation operators')\n",
    "print(len(annihilation_operators), 'annihilation operators')\n",
    "\n",
    "print('Creation operators')\n",
    "for ap in creation_operators:\n",
    "    print(ap)\n",
    "print()\n",
    "print('Annihilation operators')\n",
    "for am in annihilation_operators:\n",
    "    print(am)"
   ]
  },
  {
   "cell_type": "markdown",
   "metadata": {},
   "source": [
    "For the creation operators you should get.\n",
    "\n",
    "<code>\n",
    "Creation operators<br>2 pauli strings for 4 qubits (Real, Imaginary)<br>IIIX (+0.50000,+0.00000)<br>IIIY (-0.00000,-0.50000)<br>2 pauli strings for 4 qubits (Real, Imaginary)<br>IIXZ (+0.50000,+0.00000)<br>IIYZ (-0.00000,-0.50000)<br>2 pauli strings for 4 qubits (Real, Imaginary)<br>IXZZ (+0.50000,+0.00000)<br>IYZZ (-0.00000,-0.50000)<br>2 pauli strings for 4 qubits (Real, Imaginary)<br>XZZZ (+0.50000,+0.00000)<br>YZZZ (-0.00000,-0.50000)\n",
    "</code>\n",
    "\n",
    "For the annihilation just reverse the sign of the imaginary part."
   ]
  },
  {
   "cell_type": "markdown",
   "metadata": {},
   "source": [
    "## Molecular Hamiltonian Check\n",
    "\n",
    "To map the H2 `MolecularFermionicHamiltonian` we first need to get the integral tensors. You can use either one of the two solutions presented here depending on how succesful you were with the installation of the now infamous `pyscf` module.\n",
    "\n",
    "- The first method will make use of `pyscf` to build the molecule and of the `from_pyscf_mol` method you have implemented from day 2.\n",
    "\n",
    "- The second method will simply load the integral tensors from a file. We provide this file for a H2 molecule with a distance of 0.735 Angstroms. Even if you are using the first method, you can use this one to compare your tensor to the ones provided. In particuler, the two-body tensor can be a bit tricky to get right!"
   ]
  },
  {
   "cell_type": "markdown",
   "metadata": {},
   "source": [
    "### Building the molecule with pyscf\n",
    "\n",
    "**note** If you were not able to properly install and run `pyscf` on your computer, please skip this section.\n",
    "\n",
    "Before going further, we need to make sure your `MolecularFermionicHamiltonian` implementation in `Hamiltonian.py` is correct. By now you should be able to run the following cell to build a molecule with `pyscf` and convert it into a Fermionic Hamiltonian."
   ]
  },
  {
   "cell_type": "markdown",
   "metadata": {},
   "source": [
    "**I guess we're not doing the PYSCF part**"
   ]
  },
  {
   "cell_type": "code",
   "execution_count": 30,
   "metadata": {},
   "outputs": [],
   "source": [
    "from pyscf import gto\n",
    "from hamiltonian import MolecularFermionicHamiltonian"
   ]
  },
  {
   "cell_type": "code",
   "execution_count": 31,
   "metadata": {},
   "outputs": [
    {
     "name": "stdout",
     "output_type": "stream",
     "text": [
      "Fermionic Hamiltonian\n",
      "Number of orbitals : 2\n",
      "Including spin : False\n"
     ]
    }
   ],
   "source": [
    "%autoreload\n",
    "distance = 0.735 #units in AA\n",
    "mol = gto.M(\n",
    "    atom = [['H', (0,0,-distance/2)], ['H', (0,0,distance/2)]], \n",
    "    basis = 'sto-3g'\n",
    "    )\n",
    "\n",
    "molecular_hamiltonian_no_spin = MolecularFermionicHamiltonian.from_pyscf_mol(mol)\n",
    "print(molecular_hamiltonian_no_spin)"
   ]
  },
  {
   "cell_type": "markdown",
   "metadata": {},
   "source": [
    "You should be able to access the integral tensors to check if their values are correct. The `get_integrals` methods for each Hamiltonian are already implemented."
   ]
  },
  {
   "cell_type": "code",
   "execution_count": 32,
   "metadata": {},
   "outputs": [],
   "source": [
    "h1_no_spin, h2_no_spin = molecular_hamiltonian_no_spin.get_integrals()"
   ]
  },
  {
   "cell_type": "code",
   "execution_count": 33,
   "metadata": {},
   "outputs": [
    {
     "name": "stdout",
     "output_type": "stream",
     "text": [
      "\n",
      " h1 = \n",
      " [[-1.25633907  0.        ]\n",
      " [ 0.         -0.47189601]]\n",
      "\n",
      " h2 = \n",
      " [[[[0.67571015 0.        ]\n",
      "   [0.         0.1809312 ]]\n",
      "\n",
      "  [[0.         0.1809312 ]\n",
      "   [0.66458173 0.        ]]]\n",
      "\n",
      "\n",
      " [[[0.         0.66458173]\n",
      "   [0.1809312  0.        ]]\n",
      "\n",
      "  [[0.1809312  0.        ]\n",
      "   [0.         0.69857372]]]]\n",
      "\n",
      " U_g = 0.675710154803516\n",
      "\n",
      " U_u = 0.6985737227320189\n",
      "\n",
      " V = 0.6645817302552967\n",
      "\n",
      " W = 0.18093119978423128\n"
     ]
    }
   ],
   "source": [
    "print('\\n h1 = \\n', h1_no_spin)\n",
    "print('\\n h2 = \\n', h2_no_spin)\n",
    "print('\\n U_g =', h2_no_spin[0, 0, 0, 0])\n",
    "print('\\n U_u =', h2_no_spin[1, 1, 1, 1])\n",
    "print('\\n V =', h2_no_spin[1, 0, 0, 1])\n",
    "print('\\n W =', h2_no_spin[1, 0, 1, 0])"
   ]
  },
  {
   "cell_type": "markdown",
   "metadata": {},
   "source": [
    "Depending on the basis you've chosen, you should get\n",
    "\n",
    "<code>\n",
    "[[-1.25633907  0.        ]<br> [ 0.         -0.47189601]]\n",
    "</code>"
   ]
  },
  {
   "cell_type": "markdown",
   "metadata": {},
   "source": [
    "If you have a different order, we strongly suggest to modify your implementation of the `from_pyscf_mol()` so that your order matches this one. Getting the order of the eigenvalues with `numpy.argsort` and reorganizing the eigenvalues and the eigenvectors usualy does the trick.\n",
    "\n",
    "The `h2` tensor is large to look at. We will check its validity in next section.\n",
    "\n",
    "**note** If you want to save the integrals into a file you can use something like the following cell. Saving the atom configuration, the basis and the nuclear energy can be useful."
   ]
  },
  {
   "cell_type": "code",
   "execution_count": 34,
   "metadata": {},
   "outputs": [],
   "source": [
    "# with open('my_file.npz','wb') as f:\n",
    "    # np.savez(f,atom=mol.atom,basis=mol.basis,energy_nuc=mol.energy_nuc(),h1 = h1_no_spin,h2 = h2_no_spin)"
   ]
  },
  {
   "cell_type": "markdown",
   "metadata": {},
   "source": [
    "### Loading the integrals from a file\n",
    "\n",
    "The file containing the integrals is named `Integrals_sto-3g_H2_d_0.7350_no_spin.npz`. These integrals are already in the molecular basis but the spin has not been included yet. Make sure it's present in the same path as this notebook or change the access path in `open` to reach it. To load the integrals just run the following cell."
   ]
  },
  {
   "cell_type": "code",
   "execution_count": 35,
   "metadata": {},
   "outputs": [],
   "source": [
    "from hamiltonian import MolecularFermionicHamiltonian"
   ]
  },
  {
   "cell_type": "code",
   "execution_count": 36,
   "metadata": {},
   "outputs": [
    {
     "name": "stdout",
     "output_type": "stream",
     "text": [
      "h1 = \n",
      " [[-1.25633907  0.        ]\n",
      " [ 0.         -0.47189601]]\n",
      "\n",
      " h2 = \n",
      " [[[[0.67571015 0.        ]\n",
      "   [0.         0.1809312 ]]\n",
      "\n",
      "  [[0.         0.1809312 ]\n",
      "   [0.66458173 0.        ]]]\n",
      "\n",
      "\n",
      " [[[0.         0.66458173]\n",
      "   [0.1809312  0.        ]]\n",
      "\n",
      "  [[0.1809312  0.        ]\n",
      "   [0.         0.69857372]]]]\n"
     ]
    }
   ],
   "source": [
    "with open('Integrals_sto-3g_H2_d_0.7350_no_spin.npz','rb') as f:\n",
    "    out = np.load(f)\n",
    "    h1_load_no_spin = out['h1']\n",
    "    h2_load_no_spin = out['h2']\n",
    "    \n",
    "print('h1 = \\n', h1_load_no_spin)\n",
    "print('\\n h2 = \\n', h2_load_no_spin)"
   ]
  },
  {
   "cell_type": "markdown",
   "metadata": {},
   "source": [
    "By the way, this `npz` also contains files with the `basis`, the `atom` and `energy_nuc` names. While `atom` describes the position of the H atoms `energy_nuc` gives the Coulomb repulsion energy between the nucleus. You can only access it if you `allow_pickle` in the `load` method (check [here](https://numpy.org/devdocs/reference/generated/numpy.load.html) for more details on that). \n",
    "\n",
    "**note** If you built your tensor on your own you can check that yours are equivalent to the ones in the file. If you didn't, just skip this cell. If your integrals are different, maybe you should check you implementation of `from_pyscf_mol` before going further."
   ]
  },
  {
   "cell_type": "code",
   "execution_count": 37,
   "metadata": {},
   "outputs": [
    {
     "data": {
      "text/plain": [
       "array([[[[ True,  True],\n",
       "         [ True,  True]],\n",
       "\n",
       "        [[ True,  True],\n",
       "         [ True,  True]]],\n",
       "\n",
       "\n",
       "       [[[ True,  True],\n",
       "         [ True,  True]],\n",
       "\n",
       "        [[ True,  True],\n",
       "         [ True,  True]]]])"
      ]
     },
     "execution_count": 37,
     "metadata": {},
     "output_type": "execute_result"
    }
   ],
   "source": [
    "np.abs(h1_no_spin - h1_load_no_spin) < 1e-3\n",
    "np.abs(h2_no_spin - h2_load_no_spin) < 1e-3"
   ]
  },
  {
   "cell_type": "markdown",
   "metadata": {},
   "source": [
    "All we need to do now is put this into a `MolecularFermionicHamiltonian` with the `from_integrals` method."
   ]
  },
  {
   "cell_type": "code",
   "execution_count": 38,
   "metadata": {},
   "outputs": [],
   "source": [
    "molecular_hamiltonian_no_spin = MolecularFermionicHamiltonian.from_integrals(h1_load_no_spin,h2_load_no_spin)"
   ]
  },
  {
   "cell_type": "markdown",
   "metadata": {},
   "source": [
    "### Add the spin\n",
    "\n",
    "Last step to make the `MolecularFermionicHamiltonian` complete is to include the spin to double the number of basis states."
   ]
  },
  {
   "cell_type": "code",
   "execution_count": 39,
   "metadata": {},
   "outputs": [
    {
     "name": "stdout",
     "output_type": "stream",
     "text": [
      "Fermionic Hamiltonian\n",
      "Number of orbitals : 4\n",
      "Including spin : True\n"
     ]
    }
   ],
   "source": [
    "molecular_hamiltonian = molecular_hamiltonian_no_spin.include_spin()\n",
    "print(molecular_hamiltonian)"
   ]
  },
  {
   "cell_type": "code",
   "execution_count": 40,
   "metadata": {},
   "outputs": [
    {
     "name": "stdout",
     "output_type": "stream",
     "text": [
      "4\n"
     ]
    }
   ],
   "source": [
    "H1, H2 = molecular_hamiltonian.get_integrals()\n",
    "print(sum([(H2 > 0.69) & (H2 < 0.7)]).sum())"
   ]
  },
  {
   "cell_type": "markdown",
   "metadata": {},
   "source": [
    "This method is doing a [Kronecker product](https://en.wikipedia.org/wiki/Kronecker_product) between the integral tensors in the orbital space with the spin space. Since spin up and spin down are only just a copy of one an other, we simply use a identity matrix.\n",
    "\n",
    "\\begin{align}\n",
    "    \\mathbb{I}_{mn}^{\\text{spin}} \\otimes h_{st}^{(1) \\text{orbital}} &= \n",
    "    \\begin{pmatrix} 1_\\uparrow & 0 \\\\ 0 & 1_\\downarrow  \\end{pmatrix}\\otimes \\begin{pmatrix} E_g & 0 \\\\ 0 & E_u \\end{pmatrix} \\\\\n",
    "    &= \\begin{pmatrix} 1_\\uparrow \\times h^{(1) \\text{orbital}} & 0 \\\\ 0 & 1_\\downarrow \\times h^{(1) \\text{orbital}} \\end{pmatrix} \\\\\n",
    "    h_{ij}^{(1) \\text{spin-orbital}} &= \\begin{pmatrix} E_{g\\uparrow} & 0 & 0 & 0 \\\\ 0 & E_{u\\uparrow} & 0 & 0 \\\\ 0 & 0 & E_{g\\downarrow} & 0 \\\\ 0 & 0 & 0 & E_{u\\downarrow} \\end{pmatrix}\n",
    "\\end{align}"
   ]
  },
  {
   "cell_type": "markdown",
   "metadata": {},
   "source": [
    "The index $m$, $n$, $s$ and $t$ can all take the values `0` and `1`. The Kronecker product combines $m$ and $s$ together to form $i$ while $n$ and $t$ are combined together to form $j$. Both $i$ and $j$ can now take 4 different values therefore the $4\\times4$ matrix. The $\\uparrow$ and $\\downarrow$ in subscript are only there to identify each one belongs to which spin. In the end the values $E_{g\\uparrow} = E_{g\\downarrow} = E_{g}$ and $E_{u\\uparrow} = E_{u\\downarrow} = E_{u}$.\n",
    "\n",
    "This a little more complex for the 2 body term because the tensor is of dimension 4. \n",
    "\n",
    "\\begin{align}\n",
    "    \\mathbb{I}_{mn} \\mathbb{I}_{pq} \\otimes h_{stuv}^{(2) \\text{orbital}} &= h_{ijkl}^{(2) \\text{spin-orbital}} \n",
    "\\end{align}\n",
    "\n",
    "Obviously we cannot easily write this! But here the indices are combined like so\n",
    "\n",
    "\\begin{align}\n",
    "    (m,s) \\to i, (n,t) \\to j, (p,u) \\to k, (q,v) \\to l.\n",
    "\\end{align}\n",
    "\n",
    "And if that is not complicated enough this when the $h_{stuv}^{(2) \\text{orbital}}$ is given in the physicist notation. Remember that you can go from one notation to the other by simply using\n",
    "\n",
    "<code>\n",
    "    h2_physicist = np.einsum('ijkl->iklj',h2_chemist)\n",
    "</code>\n",
    "\n",
    "or\n",
    "\n",
    "<code>\n",
    "    h2_chemist = np.einsum('iklj->ijkl',h2_physicist)\n",
    "</code>"
   ]
  },
  {
   "cell_type": "markdown",
   "metadata": {},
   "source": [
    "## Building the Qubit Hamiltonian\n",
    "The translation from a fermionic Hamltonian to a qubit Hamiltonian depends on the kind of Hamiltonian. That's why we will implement a version of the `to_linear_combinaison_pauli_string()` method for `OneBodyFermionicHamiltonian` and for `TwoBodyFermionicHamiltonian`. All we need to provide are the creation/annhilation operators you generated in the Jordan-Wigner section."
   ]
  },
  {
   "cell_type": "markdown",
   "metadata": {},
   "source": [
    "### One body term\n",
    "Let's start with the one_body part. The one body Hamiltonian is of the form \n",
    "\\begin{align}\n",
    "    \\mathcal{H}_1 = \\sum_{i,j} h_{ij} \\hat{a}_i^\\dagger \\hat{a}_j\n",
    "\\end{align} \n",
    "\n",
    "You should now be able to implement the `to_linear_combinaison_pauli_string(creation_operators, annihilation_operators)` method for the `OneBodyFermionicHamiltonian` class in the `Hamiltonian.py` file. \n",
    "\n",
    "Each fermionic operator is made of 2 Pauli strings. So each term $i,j$ creates 4 Pauli strings. There is 16 terms in $h_{ij}$ so there is 64 Pauli strings (if we do not consider combinaison and applying threshold yet). Your implementation should now return a LCPS of length 64."
   ]
  },
  {
   "cell_type": "code",
   "execution_count": 41,
   "metadata": {},
   "outputs": [],
   "source": [
    "%autoreload\n",
    "h1_lcps = molecular_hamiltonian.one_body.to_linear_combinaison_pauli_string(creation_operators, annihilation_operators)\n",
    "# print(h1_lcps)"
   ]
  },
  {
   "cell_type": "markdown",
   "metadata": {},
   "source": [
    "We see many Pauli strings with 0 coefficient as well as many repeated strings. We can now exploit `combine()` and `apply_threshold()`. Since there is many 0 terms already we do `apply_threshold()` first, then `combine()` and `apply_threshold()` again if there was any cancellations. We can finish with `sort()` for neat presentation."
   ]
  },
  {
   "cell_type": "code",
   "execution_count": 42,
   "metadata": {},
   "outputs": [
    {
     "name": "stdout",
     "output_type": "stream",
     "text": [
      "5 pauli strings for 4 qubits (Real, Imaginary)\n",
      "IIII (-1.72824,+0.00000)\n",
      "IIIZ (+0.62817,+0.00000)\n",
      "IIZI (+0.23595,+0.00000)\n",
      "IZII (+0.62817,+0.00000)\n",
      "ZIII (+0.23595,+0.00000)\n"
     ]
    }
   ],
   "source": [
    "h1_lcps = h1_lcps.apply_threshold().combine().apply_threshold().sort()\n",
    "print(h1_lcps)"
   ]
  },
  {
   "cell_type": "markdown",
   "metadata": {},
   "source": [
    "You should get :\n",
    "\n",
    "<code>\n",
    "5 pauli strings for 4 qubits (Real, Imaginary)<br>\n",
    "IIII (-1.72824,+0.00000)<br>\n",
    "IIIZ (+0.62817,+0.00000)<br>\n",
    "IIZI (+0.23595,+0.00000)<br>\n",
    "IZII (+0.62817,+0.00000)<br>\n",
    "ZIII (+0.23595,+0.00000)\n",
    "</code>"
   ]
  },
  {
   "cell_type": "markdown",
   "metadata": {},
   "source": [
    "**Note** : You can add these steps at the end of your `one_body.to_linear_combinaison_pauli_string` to automatically reduce the number of Pauli strings."
   ]
  },
  {
   "cell_type": "markdown",
   "metadata": {},
   "source": [
    "### Two body term\n",
    "The two body Hamiltonian is of the following form :\n",
    "\\begin{align}\n",
    "    \\mathcal{H}_2 = \\frac{1}{2}\\sum_{i,j} h_{ijkl} \\hat{a}_i^\\dagger\\hat{a}_j^\\dagger \\hat{a}_k\\hat{a}_l\n",
    "\\end{align} \n",
    "You can now implement the `to_linear_combinaison_pauli_string()` method for the `TwoBodyFermionicHamiltonian` class in the `Hamiltonian.py` file. \n",
    "Counting all Pauli strings you should produce 4096 Pauli strings."
   ]
  },
  {
   "cell_type": "code",
   "execution_count": 43,
   "metadata": {
    "tags": []
   },
   "outputs": [
    {
     "name": "stdout",
     "output_type": "stream",
     "text": [
      "4097\n"
     ]
    }
   ],
   "source": [
    "%autoreload\n",
    "h2_lcps = molecular_hamiltonian.two_body.to_linear_combinaison_pauli_string(creation_operators, annihilation_operators)\n",
    "print(len(h2_lcps))"
   ]
  },
  {
   "cell_type": "markdown",
   "metadata": {},
   "source": [
    "Applying the `combine` and `apply_threshold` this reduce to 15 Pauli strings!"
   ]
  },
  {
   "cell_type": "code",
   "execution_count": 44,
   "metadata": {},
   "outputs": [
    {
     "name": "stdout",
     "output_type": "stream",
     "text": [
      "15 pauli strings for 4 qubits (Real, Imaginary)\n",
      "IIII (+0.91769,+0.00000)\n",
      "IIIZ (-0.45599,+0.00000)\n",
      "IIZI (-0.46170,+0.00000)\n",
      "IIZZ (+0.12091,+0.00000)\n",
      "IZII (-0.45599,+0.00000)\n",
      "IZIZ (+0.16893,+0.00000)\n",
      "IZZI (+0.16615,+0.00000)\n",
      "ZIII (-0.46170,+0.00000)\n",
      "ZIIZ (+0.16615,+0.00000)\n",
      "ZIZI (+0.17464,+0.00000)\n",
      "ZZII (+0.12091,+0.00000)\n",
      "XXXX (+0.04523,+0.00000)\n",
      "XXYY (+0.04523,+0.00000)\n",
      "YYXX (+0.04523,+0.00000)\n",
      "YYYY (+0.04523,+0.00000)\n"
     ]
    }
   ],
   "source": [
    "print(h2_lcps.apply_threshold().combine().apply_threshold().sort())"
   ]
  },
  {
   "cell_type": "markdown",
   "metadata": {},
   "source": [
    "You should get :\n",
    "\n",
    "<code>\n",
    "15 pauli strings for 4 qubits (Real, Imaginary)<br>\n",
    "IIII (+0.91769,+0.00000)<br>\n",
    "IIIZ (-0.45599,+0.00000)<br>\n",
    "IIZI (-0.46170,+0.00000)<br>\n",
    "IIZZ (+0.12091,+0.00000)<br>\n",
    "IZII (-0.45599,+0.00000)<br>\n",
    "IZIZ (+0.16893,+0.00000)<br>\n",
    "IZZI (+0.16615,+0.00000)<br>\n",
    "ZIII (-0.46170,+0.00000)<br>\n",
    "ZIIZ (+0.16615,+0.00000)<br>\n",
    "ZIZI (+0.17464,+0.00000)<br>\n",
    "ZZII (+0.12091,+0.00000)<br>\n",
    "XXXX (+0.04523,+0.00000)<br>\n",
    "XXYY (+0.04523,+0.00000)<br>\n",
    "YYXX (+0.04523,+0.00000)<br>\n",
    "YYYY (+0.04523,+0.00000)\n",
    "</code>"
   ]
  },
  {
   "cell_type": "markdown",
   "metadata": {},
   "source": [
    "### Molecular Hamiltonian\n",
    "The molecular Hamiltonian is just the sum of the one and two body terms. Implement this function in `MolecularFermionicHamiltonian`. You should now be able to run this code."
   ]
  },
  {
   "cell_type": "code",
   "execution_count": 45,
   "metadata": {},
   "outputs": [
    {
     "name": "stdout",
     "output_type": "stream",
     "text": [
      "15 pauli strings for 4 qubits (Real, Imaginary)\n",
      "IIII (-0.81055,+0.00000)\n",
      "IIIZ (+0.17218,+0.00000)\n",
      "IIZI (-0.22575,+0.00000)\n",
      "IIZZ (+0.12091,+0.00000)\n",
      "IZII (+0.17218,+0.00000)\n",
      "IZIZ (+0.16893,+0.00000)\n",
      "IZZI (+0.16615,+0.00000)\n",
      "ZIII (-0.22575,+0.00000)\n",
      "ZIIZ (+0.16615,+0.00000)\n",
      "ZIZI (+0.17464,+0.00000)\n",
      "ZZII (+0.12091,+0.00000)\n",
      "XXXX (+0.04523,+0.00000)\n",
      "XXYY (+0.04523,+0.00000)\n",
      "YYXX (+0.04523,+0.00000)\n",
      "YYYY (+0.04523,+0.00000)\n"
     ]
    }
   ],
   "source": [
    "%autoreload\n",
    "htot_lcps = molecular_hamiltonian.to_linear_combinaison_pauli_string(creation_operators, annihilation_operators)\n",
    "htot_lcps = htot_lcps.apply_threshold().combine().apply_threshold().sort()\n",
    "print(htot_lcps)"
   ]
  },
  {
   "cell_type": "markdown",
   "metadata": {},
   "source": [
    "You should get :\n",
    "\n",
    "<code>\n",
    "15 pauli strings for 4 qubits (Real, Imaginary)<br>IIII (-0.81055,+0.00000)<br>IIIZ (+0.17218,+0.00000)<br>IIZI (-0.22575,+0.00000)<br>IIZZ (+0.12091,+0.00000)<br>IZII (+0.17218,+0.00000)<br>IZIZ (+0.16893,+0.00000)<br>IZZI (+0.16615,+0.00000)<br>ZIII (-0.22575,+0.00000)<br>ZIIZ (+0.16615,+0.00000)<br>ZIZI (+0.17464,+0.00000)<br>ZZII (+0.12091,+0.00000)<br>XXXX (+0.04523,+0.00000)<br>XXYY (+0.04523,+0.00000)<br>YYXX (+0.04523,+0.00000)<br>YYYY (+0.04523,+0.00000)\n",
    "</code>"
   ]
  },
  {
   "cell_type": "markdown",
   "metadata": {},
   "source": [
    "## You have completed your first mapping of H2!\n",
    "What now? The next step is to use this mapping to evaluate the Hamiltonian on a quantum computer. This is the topic of the next activity.\n",
    "\n",
    "## Bonus\n",
    "In the process we built the `to_matrix()` method. Applying it to the `htot_lcps` will give you the matrix representation of the whole molecular Hamiltonian. You can find the exact solution to this Hamiltonian by diagonalizing this matrix. The lowest eigenvalue and its associated eigenvector are the ground state energy/state vector.\n",
    "\n",
    "Now you could use a `for` loop over an array of distances (say from 0.3 A to 2.5 A) to successively build H2 molecules, map each one to a `LCPS` and finally to a matrix to find its ground state. You could plot the dissociation curve of the H2 molecule. Just don't forget to add the nucleus-nucleus energy that you can get from `mol.energy_nuc()`.\n"
   ]
  },
  {
   "cell_type": "markdown",
   "metadata": {},
   "source": [
    "Notebook by **Maxime Dion** <maxime.dion@usherbrooke.ca><br>\n",
    "For the QSciTech-QuantumBC virtual workshop on gate-based quantum computing"
   ]
  },
  {
   "cell_type": "code",
   "execution_count": 48,
   "metadata": {},
   "outputs": [
    {
     "name": "stdout",
     "output_type": "stream",
     "text": [
      "-1.1373060357533982\n"
     ]
    }
   ],
   "source": [
    "H_matrix = htot_lcps.to_matrix()\n",
    "E0, V0 = np.linalg.eigh(H_matrix)\n",
    "print(E0[0] + mol.energy_nuc())\n",
    "# print(H_matrix.real.round(2))"
   ]
  },
  {
   "cell_type": "code",
   "execution_count": 59,
   "metadata": {},
   "outputs": [
    {
     "name": "stdout",
     "output_type": "stream",
     "text": [
      "0 1 2 3 4 5 6 7 8 9 10 11 12 13 14 15 16 17 18 19 20 21 22 23 24 25 26 27 28 29 30 31 32 33 34 35 36 37 38 39 40 41 42 43 44 45 46 47 48 49 "
     ]
    },
    {
     "data": {
      "text/plain": [
       "<matplotlib.legend.Legend at 0x7f31e1b88df0>"
      ]
     },
     "execution_count": 59,
     "metadata": {},
     "output_type": "execute_result"
    },
    {
     "data": {
      "image/png": "[encoded data removed]",
      "text/plain": [
       "<Figure size 640x480 with 1 Axes>"
      ]
     },
     "metadata": {},
     "output_type": "display_data"
    }
   ],
   "source": [
    "%autoreload\n",
    "from matplotlib import pyplot as plt\n",
    "distance = np.linspace(0.3, 2.5, 50) #units in AA\n",
    "E = np.zeros((len(distance), 16))\n",
    "E0 = np.zeros(len(distance))\n",
    "for i in range(len(distance)):\n",
    "    mol_d = gto.M(\n",
    "        atom = [['H', (0,0,-distance[i]/2)], ['H', (0,0,distance[i]/2)]], \n",
    "        basis = 'sto-3g'\n",
    "        )\n",
    "    # print('nucleus-nucleus energy =', mol.energy_nuc().round(2))\n",
    "    molecular_hamiltonian_no_spin_d = MolecularFermionicHamiltonian.from_pyscf_mol(mol_d)\n",
    "    h1_no_spin_d, h2_no_spin_d = molecular_hamiltonian_no_spin_d.get_integrals()\n",
    "    Eg = h1_no_spin_d[0, 0]\n",
    "    Eu = h1_no_spin_d[1, 1]\n",
    "    Ug = h2_no_spin_d[0, 0, 0, 0]\n",
    "    Uu = h2_no_spin_d[1, 1, 1, 1]    \n",
    "    Vd = h2_no_spin_d[1, 0, 0, 1]\n",
    "    Vx = h2_no_spin_d[1, 0, 1, 0]\n",
    "    molecular_hamiltonian_d = molecular_hamiltonian_no_spin_d.include_spin()\n",
    "    htot_lcps_d = molecular_hamiltonian_d.to_linear_combinaison_pauli_string(creation_operators, annihilation_operators)\n",
    "    htot_lcps_d = htot_lcps_d.apply_threshold().combine().apply_threshold().sort()\n",
    "    H_tot_d = htot_lcps_d.to_matrix()\n",
    "    E[i], V = np.linalg.eigh(H_tot_d)\n",
    "    print(i, end=' ')\n",
    "    A = 2*Eg + Ug\n",
    "    B = 2*Eu + Uu\n",
    "    E0[i] = 0.5 * (A + B - np.sqrt((A - B)**2 + 4*Vx**2)) + mol_d.energy_nuc()\n",
    "    # print('diff =', (E0 - 1*E[i, 0]).round(3))\n",
    "    E[i] = E[i] + mol_d.energy_nuc()\n",
    "\n",
    "plt.plot(distance, E0, label='analytic')\n",
    "plt.plot(distance, E[:, 0], '.', label='numeric')\n",
    "plt.xlabel('nuclei distance [$\\AA$]')\n",
    "plt.ylabel('ground state energy')\n",
    "plt.legend()"
   ]
  },
  {
   "cell_type": "code",
   "execution_count": null,
   "metadata": {},
   "outputs": [],
   "source": []
  }
 ],
 "metadata": {
  "kernelspec": {
   "display_name": "Python 3 (ipykernel)",
   "language": "python",
   "name": "python3"
  },
  "language_info": {
   "codemirror_mode": {
    "name": "ipython",
    "version": 3
   },
   "file_extension": ".py",
   "mimetype": "text/x-python",
   "name": "python",
   "nbconvert_exporter": "python",
   "pygments_lexer": "ipython3",
   "version": "3.9.16"
  },
  "toc": {
   "base_numbering": 1,
   "nav_menu": {},
   "number_sections": true,
   "sideBar": true,
   "skip_h1_title": false,
   "title_cell": "Table of Contents",
   "title_sidebar": "Contents",
   "toc_cell": false,
   "toc_position": {},
   "toc_section_display": true,
   "toc_window_display": false
  },
  "toc-autonumbering": true,
  "toc-showcode": false,
  "toc-showmarkdowntxt": false,
  "vscode": {
   "interpreter": {
    "hash": "4bd6500544d83a81aa52c484d266a2009c58713f7ffad23568c612c6d2b13ab8"
   }
  }
 },
 "nbformat": 4,
 "nbformat_minor": 4
}
