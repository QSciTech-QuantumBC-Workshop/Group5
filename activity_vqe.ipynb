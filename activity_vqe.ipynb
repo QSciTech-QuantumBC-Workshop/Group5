{
 "cells": [
  {
   "cell_type": "code",
   "execution_count": 1,
   "metadata": {},
   "outputs": [],
   "source": [
    "import numpy as np\n",
    "%load_ext autoreload\n",
    "%autoreload 0"
   ]
  },
  {
   "cell_type": "markdown",
   "metadata": {},
   "source": [
    "Notebook by **Maxime Dion** <maxime.dion@usherbrooke.ca><br>\n",
    "For the QSciTech-QuantumBC virtual workshop on gate-based quantum computing"
   ]
  },
  {
   "cell_type": "markdown",
   "metadata": {
    "tags": []
   },
   "source": [
    "## Tutorial for the VQE Activity\n",
    "\n",
    "For this activity, make sure you can easily import your versions of `hamiltonian.py`, `pauli_string.py` and `mapping.py` that you have completed in the mapping tutorial. You will also need your verions of `evaluator.py` and `solver.py`. Placing this notebook in the same `path` as these files is the easiest way to acheive this. At the end of this notebook, you should be in good position to complete these 2 additionnal files.\n",
    "\n",
    "The solution we suggest here is NOT mandatory. If you find ways to make it better and more efficient, go on and impress us! On the other hand, by completing all sections of this notebook you'll be able to :\n",
    "- Prepare a Quantum State based on a varitional form (circuit);\n",
    "- Measure qubits in the X, Y and Z basis;\n",
    "- Estimate expectation value of Pauli String on a quantum state;\n",
    "- Evaluate the expectation value of an Hamiltonian in the form of a Linear Combinaison of Pauli Strings;\n",
    "- Run a minimization algorithm on the energy expectation fonction to find the ground state of a Hamiltonian;\n",
    "- Dance to express your overwhelming sense of accomplishment\n",
    "\n",
    "**Important**\n",
    "\n",
    "When you modify and save a `*.py` file you need to re-import it so that your modifications can be taken into account when you re-execute a call. By adding the magic command `%autoreload` at the beginning of a cell, you make sure that the modifications you did to the `*.py` files are taken into account when you re-run a cell and that you can see the effect.\n",
    "\n",
    "If you encounter unusual results, restart the kernel and try again.\n",
    "\n",
    "**Note on numbering**\n",
    "\n",
    "When you ask a question you can refer to the section name or the section number.\n",
    "\n",
    "To enable the section numbering, please make sure you install [nbextensions](https://jupyter-contrib-nbextensions.readthedocs.io/en/latest/install.html). It is available in the conda distribution. After installation it you need to enable the option 'Table of contents (2)'."
   ]
  },
  {
   "cell_type": "markdown",
   "metadata": {},
   "source": [
    "# Variationnal Quantum States\n",
    "\n",
    "Every quantum circuit starts with all qubits in the state $|0\\rangle$. In order to prepare a quantum state $|\\psi\\rangle$ we need to prepare a `QuantumCircuit` that will modify the states of the qubits in order to get this specific state. The action of a circuit can always be represented as a unitiary operator.\n",
    "\n",
    "\\begin{align}\n",
    "    |\\psi\\rangle &= \\hat{U} |0 \\ldots 0\\rangle\n",
    "\\end{align}\n",
    "\n",
    "For a parametric state the `QuantumCircuit` and therefore the unitary $U$ will depend on some parameters that we wirte as $\\boldsymbol{\\theta}$.\n",
    "\n",
    "\\begin{align}\n",
    "    |\\psi(\\boldsymbol{\\theta})\\rangle &= \\hat{U}(\\boldsymbol{\\theta}) |0 \\ldots 0\\rangle\n",
    "\\end{align}\n",
    "\n",
    "We will see 2 ways to define Parametrized Quantum Circuits that represent Variationnal Quantum States. For the first method we only need the `QuantumCircuit` class from `qiskit.circuit`."
   ]
  },
  {
   "cell_type": "code",
   "execution_count": 2,
   "metadata": {},
   "outputs": [],
   "source": [
    "from qiskit.circuit import QuantumCircuit"
   ]
  },
  {
   "cell_type": "markdown",
   "metadata": {},
   "source": [
    "## Generating function\n",
    "The easiest way to generate a parametrized `QuantumCircuit` is to implement a function that takes parameters as arguments and returns a `QuantumCircuit`. Here is such a function that generates a 2 qubits QuantumCircuit."
   ]
  },
  {
   "cell_type": "code",
   "execution_count": 3,
   "metadata": {},
   "outputs": [],
   "source": [
    "def example_2qubits_2params_quantum_circuit(theta,phi):\n",
    "    qc = QuantumCircuit(2)\n",
    "    qc.ry(theta,0)\n",
    "    qc.rz(phi,0)\n",
    "    qc.cx(0,1)\n",
    "    return qc"
   ]
  },
  {
   "cell_type": "markdown",
   "metadata": {},
   "source": [
    "To visualize this circuit we first need to call the generating function with dummy argument values for it to return a circuit. We can draw the circuit. The `'mpl'` option draws the circuit in a fancy way using `matplotlib`. If you are experiencing problems, you can remove this option."
   ]
  },
  {
   "cell_type": "code",
   "execution_count": 4,
   "metadata": {},
   "outputs": [
    {
     "data": {
      "image/png": "[encoded data removed]",
      "text/plain": [
       "<Figure size 370.906x200.667 with 1 Axes>"
      ]
     },
     "execution_count": 4,
     "metadata": {},
     "output_type": "execute_result"
    }
   ],
   "source": [
    "varform_qc = example_2qubits_2params_quantum_circuit\n",
    "qc = varform_qc(1,2)\n",
    "qc.draw('mpl')"
   ]
  },
  {
   "cell_type": "markdown",
   "metadata": {},
   "source": [
    "## Using qiskit parameter\n",
    "\n",
    "The other way to generate a parametrized `QuantumCircuit` is to use the `Parameter` class in `qiskit`."
   ]
  },
  {
   "cell_type": "code",
   "execution_count": 5,
   "metadata": {},
   "outputs": [],
   "source": [
    "from qiskit.circuit import Parameter"
   ]
  },
  {
   "cell_type": "markdown",
   "metadata": {},
   "source": [
    "Here is the same circuit as before done with this method."
   ]
  },
  {
   "cell_type": "code",
   "execution_count": 6,
   "metadata": {},
   "outputs": [
    {
     "data": {
      "text/plain": [
       "<qiskit.circuit.instructionset.InstructionSet at 0x187d8a43a90>"
      ]
     },
     "execution_count": 6,
     "metadata": {},
     "output_type": "execute_result"
    }
   ],
   "source": [
    "a = Parameter('a')\n",
    "b = Parameter('b')\n",
    "varform_qc = QuantumCircuit(2)\n",
    "varform_qc.ry(a,0)\n",
    "varform_qc.rz(b,0)\n",
    "varform_qc.cx(0,1)"
   ]
  },
  {
   "cell_type": "markdown",
   "metadata": {},
   "source": [
    "Done this way the parametrized circuit can be drawn right away."
   ]
  },
  {
   "cell_type": "code",
   "execution_count": 7,
   "metadata": {},
   "outputs": [
    {
     "data": {
      "image/png": "[encoded data removed]",
      "text/plain": [
       "<Figure size 370.906x200.667 with 1 Axes>"
      ]
     },
     "execution_count": 7,
     "metadata": {},
     "output_type": "execute_result"
    }
   ],
   "source": [
    "varform_qc.draw('mpl')"
   ]
  },
  {
   "cell_type": "markdown",
   "metadata": {},
   "source": [
    "To see what are the parameters of a parametrized `QuantumCircuit` you can use"
   ]
  },
  {
   "cell_type": "code",
   "execution_count": 8,
   "metadata": {},
   "outputs": [
    {
     "data": {
      "text/plain": [
       "ParameterView([Parameter(a), Parameter(b)])"
      ]
     },
     "execution_count": 8,
     "metadata": {},
     "output_type": "execute_result"
    }
   ],
   "source": [
    "varform_qc.parameters"
   ]
  },
  {
   "cell_type": "markdown",
   "metadata": {},
   "source": [
    "To assign values to the different parameters we need to use the `QuantumCircuit.assign_paremeters()` method. This methods takes a `dict` as an argument containing the `Parameter`s and their `value`s."
   ]
  },
  {
   "cell_type": "code",
   "execution_count": 9,
   "metadata": {},
   "outputs": [
    {
     "data": {
      "image/png": "[encoded data removed]",
      "text/plain": [
       "<Figure size 370.906x200.667 with 1 Axes>"
      ]
     },
     "execution_count": 9,
     "metadata": {},
     "output_type": "execute_result"
    }
   ],
   "source": [
    "param_dict = {a : 1, b : 2}\n",
    "qc = varform_qc.assign_parameters(param_dict)\n",
    "qc.draw('mpl')"
   ]
  },
  {
   "cell_type": "markdown",
   "metadata": {},
   "source": [
    "If you want to provide the parameter values as a `list` or a `np.array` you can build the `dict` directly. Just make sure that the order you use in `param_values` corresponds to the other of `varform_qc.parameters`."
   ]
  },
  {
   "cell_type": "code",
   "execution_count": 10,
   "metadata": {},
   "outputs": [
    {
     "name": "stdout",
     "output_type": "stream",
     "text": [
      "{Parameter(a): 1, Parameter(b): 2}\n"
     ]
    }
   ],
   "source": [
    "param_values = [1, 2]\n",
    "param_dict = dict(zip(varform_qc.parameters,param_values))\n",
    "print(param_dict)"
   ]
  },
  {
   "cell_type": "markdown",
   "metadata": {},
   "source": [
    "## Varforms circuits for H2\n",
    "Using the method of you choice, prepare 2 different 4-qubit `QuantumCircuit`s. \n",
    "- The first should take 1 parameter to cover the real coefficients state sub space spanned by $|0101\\rangle$ and $|1010\\rangle$.\n",
    "- The second should take 3 parameters to cover the real coefficients state sub space spanned by $|0101\\rangle$, $|0110\\rangle$, $|1001\\rangle$ and $|1010\\rangle$.\n",
    "\n",
    "Revisit the presentation to find such circuits."
   ]
  },
  {
   "cell_type": "code",
   "execution_count": 11,
   "metadata": {},
   "outputs": [
    {
     "data": {
      "image/png": "[encoded data removed]",
      "text/plain": [
       "<Figure size 454.719x367.889 with 1 Axes>"
      ]
     },
     "execution_count": 11,
     "metadata": {},
     "output_type": "execute_result"
    }
   ],
   "source": [
    "varform_4qubits_1param = QuantumCircuit(4)\n",
    "a = Parameter('a')\n",
    "varform_4qubits_1param.x(0)\n",
    "varform_4qubits_1param.ry(a,1)\n",
    "varform_4qubits_1param.cx(1,0)\n",
    "varform_4qubits_1param.cx(0,2)\n",
    "varform_4qubits_1param.cx(1,3)\n",
    "varform_4qubits_1param.draw('mpl')"
   ]
  },
  {
   "cell_type": "code",
   "execution_count": 12,
   "metadata": {},
   "outputs": [
    {
     "data": {
      "image/png": "[encoded data removed]",
      "text/plain": [
       "<Figure size 454.719x367.889 with 1 Axes>"
      ]
     },
     "execution_count": 12,
     "metadata": {},
     "output_type": "execute_result"
    }
   ],
   "source": [
    "varform_4qubits_3params = QuantumCircuit(4)\n",
    "a = Parameter('a')\n",
    "b = Parameter('b')\n",
    "c = Parameter('c')\n",
    "varform_4qubits_3params.x(0)\n",
    "varform_4qubits_3params.x(2)\n",
    "varform_4qubits_3params.ry(a,1)\n",
    "varform_4qubits_3params.cx(1,3)\n",
    "varform_4qubits_3params.ry(b,1)\n",
    "varform_4qubits_3params.ry(c,3)\n",
    "varform_4qubits_3params.cx(1,0)\n",
    "varform_4qubits_3params.cx(3,2)\n",
    "\n",
    "varform_4qubits_3params.draw('mpl')"
   ]
  },
  {
   "cell_type": "code",
   "execution_count": 95,
   "metadata": {},
   "outputs": [
    {
     "data": {
      "image/png": "[encoded data removed]",
      "text/plain": [
       "<Figure size 203.683x200.667 with 1 Axes>"
      ]
     },
     "execution_count": 95,
     "metadata": {},
     "output_type": "execute_result"
    }
   ],
   "source": [
    "varform_2qubits_1param = QuantumCircuit(2)\n",
    "a = Parameter('a')\n",
    "varform_2qubits_1param.ry(a,1)\n",
    "varform_2qubits_1param.x(0)\n",
    "varform_2qubits_1param.draw('mpl')"
   ]
  },
  {
   "cell_type": "markdown",
   "metadata": {},
   "source": [
    "# Estimation\n",
    "The `Estimator` is an object that will help us to estimate the expectation value of an observable such as the Hamiltonian (in the for of a `LinearCombinaisonPauliString`) on a specific variational form and backend. To initialize an `Estimator` you should provide :\n",
    "\n",
    "**Mandatory**\n",
    "- A **variationnal form** that can create a `QuantumCircuit` given a set of `params`;\n",
    "- A **backend** `qiskit.Backend` (a simulator or an actual device handle) on which to run the `QuantumCircuit`.\n",
    "\n",
    "**Optional**\n",
    "- `execute_opt` is a `dict` containing the optional arguments to pass to the `qiskit.execute` method (ex : `{'shots' : 1024}`);\n",
    "- `record` can be a function used to record results of the estimation."
   ]
  },
  {
   "cell_type": "markdown",
   "metadata": {},
   "source": [
    "Once you'll have completed the code, the creation/usage of an `Estimator` such as `BasicEstimator` will go like this :\n",
    "\n",
    "<code>\n",
    "estimator = BasicEstimator(varform_qc, backend)<br>estimator.set_observable(observable)<br>expected_value = estimator.eval(params)\n",
    "</code>\n",
    "\n",
    "First you'll initialize the estimator.\n",
    "\n",
    "Next, you'll provide the observables (`LinearCombinaisonPauliString`) you want to estimate the expectation value using the `set_observable()` method. \n",
    "\n",
    "Finally, you'll call the `eval()` method that will return the estimation of the observable's expected value. Mathematicaly, the use of this method corresponds to \n",
    "\n",
    "\\begin{align}\n",
    "E(\\boldsymbol{\\theta}).\n",
    "\\end{align}\n",
    "\n",
    "We will now go through the different pieces neccessary to complete the `Estimator` class."
   ]
  },
  {
   "cell_type": "markdown",
   "metadata": {},
   "source": [
    "## State circuit\n",
    "\n",
    "The first method we need to implement is `prepare_state_circuit()`. This method should take a `list` or a `ndarray` of parameters and replace then into the `varform` quantum circuit and return the `QuantumCircuit` that prepares the quantum state.\n",
    "\n",
    "You can test you code here with the abstract class."
   ]
  },
  {
   "cell_type": "code",
   "execution_count": 15,
   "metadata": {},
   "outputs": [],
   "source": [
    "from qiskit import Aer, execute\n",
    "qasm_simulator = Aer.get_backend('qasm_simulator')\n",
    "from estimator import Estimator"
   ]
  },
  {
   "cell_type": "code",
   "execution_count": 16,
   "metadata": {},
   "outputs": [
    {
     "data": {
      "image/png": "[encoded data removed]",
      "text/plain": [
       "<Figure size 621.941x367.889 with 1 Axes>"
      ]
     },
     "execution_count": 16,
     "metadata": {},
     "output_type": "execute_result"
    }
   ],
   "source": [
    "%autoreload\n",
    "varform = varform_4qubits_1param\n",
    "backend = qasm_simulator\n",
    "estimator = Estimator(varform,backend)\n",
    "params = np.random.random(1)\n",
    "state_circuit = estimator.prepare_state_circuit(params)\n",
    "\n",
    "state_circuit.draw('mpl')"
   ]
  },
  {
   "cell_type": "markdown",
   "metadata": {},
   "source": [
    "## Pauli Based Measurements\n",
    "We want to estimate the expectation value of an observable for the quantum state we are preparing.\n",
    "\n",
    "We have seen that even if a quantum computer can only measure qubits in the Z-basis, the X and Y-basis are accessible if we *rotate* the quantum state before measuring. \n",
    "\n",
    "Implement the `@staticmethod` : `diagonalizing_pauli_string_circuit()` in the `Estimator` class in file `Estimator.py` that returns a `QuantumCircuit` that performs a transformation which diagonalize the provided `PauliString`.\n",
    "\n",
    "First we import the abstract class `Estimator` and the `PauliString` class."
   ]
  },
  {
   "cell_type": "code",
   "execution_count": 17,
   "metadata": {},
   "outputs": [],
   "source": [
    "from pauli_string import PauliString , LinearCombinaisonPauliString"
   ]
  },
  {
   "cell_type": "markdown",
   "metadata": {},
   "source": [
    "Test your code with the next cell."
   ]
  },
  {
   "cell_type": "code",
   "execution_count": 18,
   "metadata": {},
   "outputs": [
    {
     "name": "stdout",
     "output_type": "stream",
     "text": [
      "ZIZZ\n"
     ]
    },
    {
     "data": {
      "image/png": "[encoded data removed]",
      "text/plain": [
       "<Figure size 287.496x367.889 with 1 Axes>"
      ]
     },
     "execution_count": 18,
     "metadata": {},
     "output_type": "execute_result"
    }
   ],
   "source": [
    "%autoreload\n",
    "pauli_string = PauliString.from_str('ZIXY')\n",
    "diagonalizing_circuit, diagonal_pauli_string = Estimator.diagonalizing_pauli_string_circuit(pauli_string)\n",
    "print(diagonal_pauli_string) #should be 'ZIZZ'\n",
    "diagonalizing_circuit.draw('mpl')"
   ]
  },
  {
   "cell_type": "markdown",
   "metadata": {},
   "source": [
    "## Circuit and diagonal observables preperation (`BasicEstimator`)\n",
    "\n",
    "The `diagonal_observables_and_circuits()` method is specific to the sub-types of `Estimator`. The two different types of `Estimator`s considered in this workshop are :\n",
    "- The `BasicEstimator` will run a single `QuantumCircuit` for each `PauliString` present in the provided observable (`LinearCombinaisonPauliString`).\n",
    "- The `BitwiseCommutingCliqueEstimator` will exploit Bitwise Commuting Clique to combine the estimation of Commuting `PauliString`s and reduce the number of different `QuantumCircuit` ran to estimate the expectation value of the observable. \n",
    "\n",
    "Implement the `diagonal_observables_and_circuits()` method in the `BasicEstimator` class in file `Estimator.py`. This method needs to convert each `PauliString` in the observable into a diagonal `PauliString` (of only `I` and `Z`) and a quantum circuit. The diagonal `PauliString` should then be combined with its associated coefficient into a  `LinearCombinaisonPauliString` of only one `PauliString` to form a diagonal observable. The quantum circuit should represent the transformation which convert the original `PauliString` into the respective diagonal `PauliString`. The method should return all the diagonal observables and respective quantum circuits into two `list`.\n",
    "\n",
    "**Note** The reason the diagonal `PauliString` are returned as `LinearCombinaisonPauliString` of only one `PauliString` and not a single `LinearCombinaisonPauliString` of many `PauliString` is to facilitate the implementation of the similar methods for the `BitwiseCommutingCliqueEstimator`. You can try to implemente this second `Estimator` if you wish.\n",
    "\n",
    "You can test your method on `2*ZIXY + 1*IXYZ`."
   ]
  },
  {
   "cell_type": "code",
   "execution_count": 19,
   "metadata": {},
   "outputs": [],
   "source": [
    "from estimator import BasicEstimator , BitwiseCommutingCliqueEstimator ,GeneralCommutingCliqueEstimator"
   ]
  },
  {
   "cell_type": "code",
   "execution_count": 20,
   "metadata": {},
   "outputs": [
    {
     "name": "stdout",
     "output_type": "stream",
     "text": [
      "1 pauli strings for 4 qubits (Real, Imaginary)\n",
      "ZZZZ (+2.00000,+0.00000)\n",
      "1 pauli strings for 4 qubits (Real, Imaginary)\n",
      "IIZZ (+1.00000,+0.00000)\n"
     ]
    }
   ],
   "source": [
    "%autoreload\n",
    "observable = 2*PauliString.from_str('ZXZX') + 1*PauliString.from_str('IIZZ')\n",
    "diagonal_observables, diagonalizing_circuits = BasicEstimator.diagonal_observables_and_circuits(observable)\n",
    "\n",
    "for diagonal_observable in diagonal_observables:\n",
    "    print(diagonal_observable)"
   ]
  },
  {
   "cell_type": "markdown",
   "metadata": {},
   "source": [
    "You should get :\n",
    "\n",
    "<code>\n",
    "1 pauli strings for 4 qubits (Real, Imaginary)<br>\n",
    "ZZZZ (+2.00000,+0.00000)<br>\n",
    "\n",
    "1 pauli strings for 4 qubits (Real, Imaginary)<br>\n",
    "IIZZ (+1.00000,+0.00000)<br>\n",
    "</code>"
   ]
  },
  {
   "cell_type": "markdown",
   "metadata": {},
   "source": [
    "## Set the observable\n",
    "\n",
    "You should now be able to instantiate the `BasicEstimator` and to set an observable using `set_observable()`. This method is already implemented. It calls the `diagonal_observables_and_circuits()` method you just made and stores the `diagonal_observables` and the `diagonalizing_circuits` into the instance of the `Estimator`."
   ]
  },
  {
   "cell_type": "markdown",
   "metadata": {},
   "source": [
    "## Assemble circuits\n",
    "\n",
    "Now that we have the state circuit and diagonalizing circuits we can assemble all the quantum circuits that will be executed in the estimation of the expectation value of the observable. The method `assemble_circuits()` assembles the state circuit with each one of the diagonalizing circuits to create as many circuits. This method should also apply the final measurements.\n",
    "\n",
    "One you have implemented this method you can test it here:"
   ]
  },
  {
   "cell_type": "code",
   "execution_count": 21,
   "metadata": {},
   "outputs": [],
   "source": [
    "%autoreload\n",
    "\n",
    "varform = varform_4qubits_1param\n",
    "backend = qasm_simulator\n",
    "estimator = BasicEstimator(varform, backend)\n",
    "\n",
    "observable = 2*PauliString.from_str('ZXZX') + 1*PauliString.from_str('IIZZ')\n",
    "estimator.set_observable(observable)\n",
    "params = [0,]\n",
    "state_circuit = estimator.prepare_state_circuit(params)\n",
    "circuits = estimator.assemble_circuits(state_circuit)"
   ]
  },
  {
   "cell_type": "markdown",
   "metadata": {},
   "source": [
    "You should then be able to execute these circuits..."
   ]
  },
  {
   "cell_type": "code",
   "execution_count": 22,
   "metadata": {},
   "outputs": [],
   "source": [
    "execute_opts = {'shots' : 1024, 'seed_simulator' : 1}\n",
    "job = execute(circuits, backend=qasm_simulator, **execute_opts)\n",
    "result = job.result()"
   ]
  },
  {
   "cell_type": "markdown",
   "metadata": {},
   "source": [
    "... and obtain the results as counts."
   ]
  },
  {
   "cell_type": "code",
   "execution_count": 23,
   "metadata": {},
   "outputs": [
    {
     "name": "stdout",
     "output_type": "stream",
     "text": [
      "{'0001': 273, '0101': 272, '0000': 234, '0100': 245}\n"
     ]
    }
   ],
   "source": [
    "i = 0\n",
    "counts = result.get_counts(circuits[i])\n",
    "print(counts)"
   ]
  },
  {
   "cell_type": "markdown",
   "metadata": {},
   "source": [
    "You should get :\n",
    "\n",
    "<code>\n",
    "{'0100': 245, '0000': 234, '0101': 272, '0001': 273}\n",
    "</code>"
   ]
  },
  {
   "cell_type": "markdown",
   "metadata": {},
   "source": [
    "## Diagonal pauli string eigenvalue\n",
    "\n",
    "With these counts in hands, we can tackle the last steps of the estimation of the expectation value of an observable. First we need to compute the eigenvalue of a diagonal pauli string for a given basis state. This eigenvalue can only be `+1` or `-1`. This computation should be done in the `diagonal_pauli_string_eigenvalue()` method that you can implement now.\n",
    "\n",
    "You can test your implementation with the following code which should run `-1`."
   ]
  },
  {
   "cell_type": "code",
   "execution_count": 24,
   "metadata": {},
   "outputs": [
    {
     "data": {
      "text/plain": [
       "-1"
      ]
     },
     "execution_count": 24,
     "metadata": {},
     "output_type": "execute_result"
    }
   ],
   "source": [
    "%autoreload\n",
    "\n",
    "diagonal_pauli_string = PauliString.from_str('ZIZZ')\n",
    "state = '0110'\n",
    "eigenvalue = Estimator.diagonal_pauli_string_eigenvalue(diagonal_pauli_string, state)\n",
    "eigenvalue"
   ]
  },
  {
   "cell_type": "markdown",
   "metadata": {},
   "source": [
    "## Diagonal pauli string expectation value"
   ]
  },
  {
   "cell_type": "markdown",
   "metadata": {},
   "source": [
    "Let's now estimate the expectation value of a single diagonal `PauliString`. This needs to be done in the method `estimate_diagonal_pauli_string_expectation_value()`. Implement this method using the one you just implemented and the following equation\n",
    "\\begin{align}\n",
    "    \\langle \\hat{\\mathcal{P}} \\rangle = \\frac{1}{N_\\text{tot}}\\sum_{q} N_q \\Lambda_q^{(\\hat{\\mathcal{P}})}\n",
    "\\end{align}\n",
    "where $\\Lambda_q^{(\\hat{\\mathcal{P}})}$ is the eigenvalue of the `PauliString` for a state $q$ and $N_q$ is the counts, i.e. the number of times this state was measured. Testing your implementation, you should get an expectation value of `0`."
   ]
  },
  {
   "cell_type": "code",
   "execution_count": 25,
   "metadata": {},
   "outputs": [
    {
     "data": {
      "text/plain": [
       "0.0"
      ]
     },
     "execution_count": 25,
     "metadata": {},
     "output_type": "execute_result"
    }
   ],
   "source": [
    "%autoreload\n",
    "\n",
    "diagonal_pauli_string = PauliString.from_str('ZIZZ')\n",
    "counts = {'0110' : 50, '1001' : 50}\n",
    "pauli_string_expectation_value = Estimator.estimate_diagonal_pauli_string_expectation_value(diagonal_pauli_string, counts)\n",
    "pauli_string_expectation_value"
   ]
  },
  {
   "cell_type": "markdown",
   "metadata": {},
   "source": [
    "## Diagonal observable expectation value\n",
    "\n",
    "This last step may seem a bit redondant, but it makes more sense if you try to implement the `BitwiseCommutingCliqueEstimator`. Anyhow, you need to implement the method `estimate_diagonal_observable_expectation_value()` so that it computes the expectation value of a diagonal observable by computing the linear combinaison of the diagonal pauli string expectation value, weighted by their respective coefficients.\n",
    "\\begin{align}\n",
    "    \\langle \\hat{\\mathcal{D}} \\rangle  = \\sum_i h_i \\langle \\hat{\\mathcal{P}}_i \\rangle \n",
    "\\end{align}"
   ]
  },
  {
   "cell_type": "code",
   "execution_count": 26,
   "metadata": {},
   "outputs": [
    {
     "name": "stdout",
     "output_type": "stream",
     "text": [
      "(1+0j)\n"
     ]
    }
   ],
   "source": [
    "%autoreload\n",
    "\n",
    "diagonal_observable = 2*PauliString.from_str('ZZZZ') + 1*PauliString.from_str('IIZZ')\n",
    "counts = {'0110' : 50, '1001' : 50}\n",
    "observable_expectation_value = Estimator.estimate_diagonal_observable_expectation_value(diagonal_observable, counts)\n",
    "print (observable_expectation_value)"
   ]
  },
  {
   "cell_type": "markdown",
   "metadata": {},
   "source": [
    "Again, you should get an expectation value of `0`."
   ]
  },
  {
   "cell_type": "markdown",
   "metadata": {},
   "source": [
    "## The `eval(params)` method\n",
    "\n",
    "You have now all the pieces to complete the `eval(params)` method. This method should use many methods you've just implemented. Mathematicaly, it should return the value of the expression\n",
    "\n",
    "\\begin{align}\n",
    "    E(\\boldsymbol{\\theta}) = \\sum_i h_i \\langle\\psi(\\boldsymbol{\\theta}) | \\hat{\\mathcal{P}}_i | \\psi(\\boldsymbol{\\theta}) \\rangle.\n",
    "\\end{align}"
   ]
  },
  {
   "cell_type": "code",
   "execution_count": 27,
   "metadata": {},
   "outputs": [
    {
     "name": "stdout",
     "output_type": "stream",
     "text": [
      "0.019004\n",
      "(-1.19140625+0j)\n"
     ]
    }
   ],
   "source": [
    "%autoreload\n",
    "\n",
    "varform = varform_4qubits_1param\n",
    "backend = qasm_simulator\n",
    "execute_opts = {'shots' : 1024, 'seed_simulator' : 1}\n",
    "evaluator = BasicEstimator(varform,backend,execute_opts = execute_opts)\n",
    "\n",
    "observable = 2*PauliString.from_str('ZXZX') + 1*PauliString.from_str('IIZZ')\n",
    "evaluator.set_observable(observable)\n",
    "params = [0,]\n",
    "expected_value = evaluator.eval(params)\n",
    "print(expected_value)"
   ]
  },
  {
   "cell_type": "markdown",
   "metadata": {},
   "source": [
    "Yes that's right, your code now returns an estimate of the expression\n",
    "\n",
    "\\begin{align}\n",
    "    E(\\theta) = \\langle \\psi(\\theta) | \\hat{\\mathcal{H}} | \\psi(\\theta) \\rangle.\n",
    "\\end{align} \n",
    "\n",
    "for\n",
    "\n",
    "\\begin{align}\n",
    "    \\hat{\\mathcal{H}} = 2\\times \\hat{Z}\\hat{X}\\hat{Z}\\hat{X} + 1\\times \\hat{I}\\hat{I}\\hat{Z}\\hat{Z}\n",
    "\\end{align} \n",
    "\n",
    "and the varform `varform_4qubits_1param` with $\\theta = 0$. The `evaluator.eval()` is now a method you can call like a function and it will return the energy $E(\\theta)$.\n",
    "\n",
    "Now comes the time to test this on the $\\text{H}_2$ molecule Hamiltonian!"
   ]
  },
  {
   "cell_type": "markdown",
   "metadata": {},
   "source": [
    "## The Hamiltonian evaluation test\n",
    "\n",
    "We will now import the classes from the previous activity."
   ]
  },
  {
   "cell_type": "code",
   "execution_count": 28,
   "metadata": {},
   "outputs": [],
   "source": [
    "from hamiltonian import MolecularFermionicHamiltonian\n",
    "from mapping import JordanWigner , Parity"
   ]
  },
  {
   "cell_type": "markdown",
   "metadata": {},
   "source": [
    "For ease of use we will import the integral values instead of using `pyscf`. We also import the Coulomb repulsion energy for later use. By now we are experts in building the Hamiltonian."
   ]
  },
  {
   "cell_type": "code",
   "execution_count": 29,
   "metadata": {},
   "outputs": [],
   "source": [
    "with open('Integrals_sto-3g_H2_d_0.7350_no_spin.npz','rb') as f:\n",
    "    out = np.load(f)\n",
    "    h1_load_no_spin = out['h1']\n",
    "    h2_load_no_spin = out['h2']\n",
    "    energy_nuc =  out['energy_nuc']\n",
    "    \n",
    "molecular_hamiltonian = MolecularFermionicHamiltonian.from_integrals(h1_load_no_spin,h2_load_no_spin).include_spin()"
   ]
  },
  {
   "cell_type": "markdown",
   "metadata": {},
   "source": [
    "We use the Jordan-Wigner mapping to the get the Hamiltonian for the H2 molecule with `d=0.735`. "
   ]
  },
  {
   "cell_type": "code",
   "execution_count": 30,
   "metadata": {},
   "outputs": [
    {
     "name": "stdout",
     "output_type": "stream",
     "text": [
      "15 pauli strings for 4 qubits (Real, Imaginary)\n",
      "IIII (-0.81055,+0.00000)\n",
      "IIIZ (+0.17218,+0.00000)\n",
      "IIZI (-0.22575,+0.00000)\n",
      "IIZZ (+0.12091,+0.00000)\n",
      "IZII (+0.17218,+0.00000)\n",
      "IZIZ (+0.16893,+0.00000)\n",
      "ZIII (-0.22575,+0.00000)\n",
      "IZZI (+0.16615,+0.00000)\n",
      "ZIIZ (+0.16615,+0.00000)\n",
      "ZIZI (+0.17464,+0.00000)\n",
      "ZZII (+0.12091,+0.00000)\n",
      "XXXX (+0.04523,+0.00000)\n",
      "XXYY (+0.04523,+0.00000)\n",
      "YYXX (+0.04523,+0.00000)\n",
      "YYYY (+0.04523,+0.00000)\n"
     ]
    }
   ],
   "source": [
    "%autoreload\n",
    "mapping = JordanWigner()\n",
    "qubit_hamiltonian = mapping.fermionic_hamiltonian_to_qubit_hamiltonian(molecular_hamiltonian).apply_threshold().combine().apply_threshold().sort()\n",
    "print(qubit_hamiltonian)"
   ]
  },
  {
   "cell_type": "markdown",
   "metadata": {},
   "source": [
    "## BasicEstimator"
   ]
  },
  {
   "cell_type": "markdown",
   "metadata": {},
   "source": [
    "We build an evaluator, feed it with the Hamiltonian (`LinearCombinaisonPauliString`) of H2 and then we evaluate the energy. Use `params` in order that your `varform` prepares the state $|0101\\rangle$."
   ]
  },
  {
   "cell_type": "code",
   "execution_count": 31,
   "metadata": {},
   "outputs": [
    {
     "name": "stdout",
     "output_type": "stream",
     "text": [
      "0.120198\n",
      "(-1.8383815162012989+0j)\n"
     ]
    }
   ],
   "source": [
    "%autoreload\n",
    "varform = varform_4qubits_1param\n",
    "backend = qasm_simulator\n",
    "execute_opts = {'shots' : 2048}\n",
    "estimator = BasicEstimator(varform, backend,execute_opts = execute_opts)\n",
    "estimator.set_observable(qubit_hamiltonian)\n",
    "params = [0,]\n",
    "expected_value = estimator.eval(params)\n",
    "print(expected_value)"
   ]
  },
  {
   "cell_type": "markdown",
   "metadata": {},
   "source": [
    "## BitwiseCommutingCliqueEstimator"
   ]
  },
  {
   "cell_type": "code",
   "execution_count": 32,
   "metadata": {},
   "outputs": [
    {
     "name": "stdout",
     "output_type": "stream",
     "text": [
      "0.053015\n",
      "(-1.8326390708956468+0j)\n"
     ]
    }
   ],
   "source": [
    "%autoreload\n",
    "varform = varform_4qubits_1param\n",
    "backend = qasm_simulator\n",
    "execute_opts = {'shots' : 2048}\n",
    "estimator = BitwiseCommutingCliqueEstimator(varform, backend,execute_opts = execute_opts)\n",
    "estimator.set_observable(qubit_hamiltonian)\n",
    "params = [0,]\n",
    "expected_value = estimator.eval(params)\n",
    "print(expected_value)"
   ]
  },
  {
   "cell_type": "markdown",
   "metadata": {},
   "source": [
    "## GeneralCommutingCliqueEstimator"
   ]
  },
  {
   "cell_type": "code",
   "execution_count": 33,
   "metadata": {},
   "outputs": [
    {
     "name": "stdout",
     "output_type": "stream",
     "text": [
      "0.019004\n",
      "(-1.8401484224491915+0j)\n"
     ]
    }
   ],
   "source": [
    "%autoreload\n",
    "varform = varform_4qubits_1param\n",
    "backend = qasm_simulator\n",
    "execute_opts = {'shots' : 2048}\n",
    "estimator = GeneralCommutingCliqueEstimator(varform, backend,execute_opts = execute_opts)\n",
    "estimator.set_observable(qubit_hamiltonian)\n",
    "params = [0,]\n",
    "expected_value = estimator.eval(params)\n",
    "print(expected_value)"
   ]
  },
  {
   "cell_type": "markdown",
   "metadata": {},
   "source": [
    "If your `varform` prepares the state $|0101\\rangle$, you should get something around `-1.83`. This energy is already close to the ground state energy because the ground state is close to $|0101\\rangle$, but still it's not the ground state. We need to find the `params` that will minimise the energy.\n",
    "\n",
    "\\begin{align}\n",
    "    E_0 = \\min_{\\boldsymbol{\\theta}} E(\\boldsymbol{\\theta})\n",
    "\\end{align}"
   ]
  },
  {
   "cell_type": "markdown",
   "metadata": {},
   "source": [
    "# Solver\n",
    "\n",
    "In a final step we need to implement a solver that will try to find the minimal energy. We will implement 2 solvers (the second is optionnal):\n",
    "  1. Use the VQE algo in conjunction with a minimizer to try to minimize `estimator.eval()`.\n",
    "  2. (optional) Use the `to_matrix()` method you implemented in the previous activity to find the exact value/solution.\n",
    "\n",
    "## VQE Solver\n",
    "\n",
    "Like any minimzation process this solver will need a couple of ingredients :\n",
    "- A function to minimize, we will provide this with the evaluator\n",
    "- A minimizer, an algorithm that generaly takes in a function and a set of starting parameters and returns the best guess for the optimal parameters that correspond to the minimal value of the function to minimize.\n",
    "- A set of starting parameters.\n",
    "\n",
    "### Minimizer\n",
    "\n",
    "A minimizer that works OK for the VQE algorithm is the  Sequential Least SQuares Programming (SLSQP) algorithm. It's available in the `minimize` sub-module of [scipy](https://docs.scipy.org/doc/scipy/reference/optimize.minimize-slsqp.html)."
   ]
  },
  {
   "cell_type": "code",
   "execution_count": 34,
   "metadata": {},
   "outputs": [],
   "source": [
    "from scipy.optimize import minimize"
   ]
  },
  {
   "cell_type": "markdown",
   "metadata": {},
   "source": [
    "We will make a Lambda function with the minimizer so we can set all sorts of parameters before feeding it to the solver."
   ]
  },
  {
   "cell_type": "code",
   "execution_count": 35,
   "metadata": {},
   "outputs": [],
   "source": [
    "minimizer = lambda fct, start_param_values : minimize(\n",
    "    fct,\n",
    "    start_param_values,\n",
    "    method = 'SLSQP', \n",
    "    options = {'maxiter' : 5,'eps' : 1e-1, 'ftol' : 1e-4, 'disp' : True, 'iprint' : 2})"
   ]
  },
  {
   "cell_type": "markdown",
   "metadata": {},
   "source": [
    "The `minimizer` now takes only 2 arguments : the function and the starting parameter's values. We also specify some options :\n",
    "- A small value for the maximum number of iterations. You will find that running the VQE algorithm is expansive because of the `estimator.eval()` method. Either it's long to simulate on `qasm_simulator` or because it's running on an actual quantum computer.\n",
    "- A `eps` of `0.1`. This is the size of the step the algorithm is going to change the values of the parameters to try to estimate the slope of the function. By the way, a lot of minimizing algorithms use the slope of the function to know in which direction is the minimum. Since our parameters are all angles in radians a value of 0.1 seems reasonnable. Play with this value if you like.\n",
    "- A `ftol` value of `1e-4`. This is the goal for the precision of the value of the minimum value. The chemical accuracy is around 1 milli-Hartree.\n",
    "- We set `iprint` to `2` so to see what is going on. For your final implementation you can set this to `0`.\n",
    "\n",
    "Before implementing the `VQESolver` let's try this minimizer! The function is `estimator.eval` and we start with a parameter of `0`."
   ]
  },
  {
   "cell_type": "code",
   "execution_count": 36,
   "metadata": {},
   "outputs": [
    {
     "name": "stdout",
     "output_type": "stream",
     "text": [
      "0.018004\n",
      "0.015005\n",
      "  NIT    FC           OBJFUN            GNORM\n",
      "0.014002\n",
      "    1     3    -1.837764E+00     3.844701E-01\n",
      "0.014003\n",
      "0.014003\n",
      "0.013003\n",
      "    2     6    -1.858949E+00     7.559752E-02\n",
      "0.013003\n",
      "0.013003\n",
      "    3     8    -1.863263E+00     1.102636E-01\n",
      "0.013003\n",
      "0.013003\n",
      "    4    10    -1.856059E+00     1.046269E-01\n",
      "0.012003\n",
      "0.012003\n",
      "0.014003\n",
      "0.013003\n",
      "0.013003\n",
      "0.013003\n"
     ]
    },
    {
     "name": "stderr",
     "output_type": "stream",
     "text": [
      "C:\\Users\\Mohammad\\anaconda3\\envs\\winterschool\\lib\\site-packages\\scipy\\optimize\\_numdiff.py:598: ComplexWarning: Casting complex values to real discards the imaginary part\n",
      "  J_transposed[i] = df / dx\n",
      "C:\\Users\\Mohammad\\anaconda3\\envs\\winterschool\\lib\\site-packages\\scipy\\optimize\\_slsqp_py.py:422: ComplexWarning: Casting complex values to real discards the imaginary part\n",
      "  slsqp(m, meq, x, xl, xu, fx, c, g, a, acc, majiter, mode, w, jw,\n",
      "C:\\Users\\Mohammad\\anaconda3\\envs\\winterschool\\lib\\site-packages\\scipy\\optimize\\_slsqp_py.py:442: ComplexWarning: Casting complex values to real discards the imaginary part\n",
      "  print(\"%5i %5i % 16.6E % 16.6E\" % (majiter, sf.nfev,\n"
     ]
    },
    {
     "name": "stdout",
     "output_type": "stream",
     "text": [
      "0.020004\n",
      "0.017004\n",
      "0.015004\n",
      "0.014002\n",
      "Optimization terminated successfully    (Exit mode 0)\n",
      "            Current function value: (-1.8501168147137717+0j)\n",
      "            Iterations: 4\n",
      "            Function evaluations: 20\n",
      "            Gradient evaluations: 4\n"
     ]
    }
   ],
   "source": [
    "minimization_result = minimizer(estimator.eval,[0,])"
   ]
  },
  {
   "cell_type": "markdown",
   "metadata": {},
   "source": [
    "In the end you should get a minimal energy around `1.86` Hartree. Which is a bit smaller than what we had before minimizing. You can explore the `minimization_result` to retreive this value but also the set of optimal parameters."
   ]
  },
  {
   "cell_type": "code",
   "execution_count": 37,
   "metadata": {},
   "outputs": [
    {
     "name": "stdout",
     "output_type": "stream",
     "text": [
      "[-0.17906663]\n",
      "(-1.8501168147137717+0j)\n"
     ]
    }
   ],
   "source": [
    "opt_params = minimization_result.x\n",
    "opt_value = minimization_result.fun\n",
    "print(opt_params)\n",
    "print(opt_value)"
   ]
  },
  {
   "cell_type": "markdown",
   "metadata": {},
   "source": [
    "### VQE Solver\n",
    "\n",
    "Now you should be in good position to implement the `lowest_eig_value(lcps)` of the `VQESolver` class inside the `Solve.py` file. Test your method here."
   ]
  },
  {
   "cell_type": "code",
   "execution_count": 38,
   "metadata": {},
   "outputs": [],
   "source": [
    "from solver import VQESolver"
   ]
  },
  {
   "cell_type": "code",
   "execution_count": 39,
   "metadata": {},
   "outputs": [
    {
     "name": "stdout",
     "output_type": "stream",
     "text": [
      "0.018004\n",
      "0.014003\n",
      "  NIT    FC           OBJFUN            GNORM\n",
      "0.014004\n",
      "    1     3    -1.855981E+00     1.653737E-01\n",
      "0.012002\n",
      "0.013003\n",
      "    2     5    -1.816149E+00     1.137975E-01\n",
      "0.012002\n",
      "0.013003\n",
      "0.013003\n",
      "    3     8    -4.250655E-01     1.484418E-01\n",
      "0.013002\n",
      "0.013004\n",
      "0.012002\n",
      "0.014003\n",
      "0.013003\n",
      "0.014003\n",
      "0.013003\n",
      "0.013004\n",
      "0.013002\n",
      "0.014003\n",
      "Optimization terminated successfully    (Exit mode 0)\n",
      "            Current function value: (-1.8558468041451694+0j)\n",
      "            Iterations: 3\n",
      "            Function evaluations: 18\n",
      "            Gradient evaluations: 3\n"
     ]
    }
   ],
   "source": [
    "%autoreload\n",
    "vqe_solver = VQESolver(estimator,minimizer,[0,],name = 'vqe_solver')\n",
    "opt_value = vqe_solver.lowest_eig_value(qubit_hamiltonian)"
   ]
  },
  {
   "cell_type": "markdown",
   "metadata": {},
   "source": [
    "There is only one thing missing to have the complete molecular energy : the Coulomb repulsion energy from the nucleus. This value was loaded when we imported the integrals. Let's add it to the electronic energy."
   ]
  },
  {
   "cell_type": "code",
   "execution_count": 40,
   "metadata": {},
   "outputs": [
    {
     "name": "stdout",
     "output_type": "stream",
     "text": [
      "Ground state position estimate (vqe) :  [-0.25848847]\n",
      "Ground state energy estimate (electronic, vqe) :  (-1.8558468041451694+0j)\n",
      "Ground state energy estimate (molecular, vqe) :  (-1.13587780969619+0j)\n"
     ]
    }
   ],
   "source": [
    "print('Ground state position estimate (vqe) : ', vqe_solver.last_opt_params)\n",
    "print('Ground state energy estimate (electronic, vqe) : ', opt_value)\n",
    "print('Ground state energy estimate (molecular, vqe) : ', opt_value + energy_nuc)"
   ]
  },
  {
   "cell_type": "markdown",
   "metadata": {},
   "source": [
    "### The Eigenstate\n",
    "\n",
    "What is the eigenstate? We can partially find out by using the `varform` with the parameters we have found and measure everything in the Z basis."
   ]
  },
  {
   "cell_type": "code",
   "execution_count": 41,
   "metadata": {},
   "outputs": [
    {
     "data": {
      "image/png": "[encoded data removed]",
      "text/plain": [
       "<Figure size 1082.05x451.5 with 1 Axes>"
      ]
     },
     "execution_count": 41,
     "metadata": {},
     "output_type": "execute_result"
    }
   ],
   "source": [
    "eigenstate_qc = varform.copy()\n",
    "eigenstate_qc.measure_all()\n",
    "\n",
    "param_dict = dict(zip(eigenstate_qc.parameters,opt_params))\n",
    "eigenstate_qc = eigenstate_qc.assign_parameters(param_dict)\n",
    "\n",
    "eigenstate_qc.draw('mpl')"
   ]
  },
  {
   "cell_type": "markdown",
   "metadata": {},
   "source": [
    "We now execute this circuit."
   ]
  },
  {
   "cell_type": "code",
   "execution_count": 42,
   "metadata": {},
   "outputs": [],
   "source": [
    "execute_opts = {'shots' : 1024}\n",
    "job = execute(eigenstate_qc,backend=qasm_simulator,**execute_opts)\n",
    "result = job.result()\n",
    "counts = result.get_counts(eigenstate_qc)"
   ]
  },
  {
   "cell_type": "markdown",
   "metadata": {},
   "source": [
    "We will use the `plot_histogram` method from `qiskit.visualization` that takes the counts `dict` as an input. "
   ]
  },
  {
   "cell_type": "code",
   "execution_count": 43,
   "metadata": {},
   "outputs": [],
   "source": [
    "from qiskit.visualization import plot_histogram"
   ]
  },
  {
   "cell_type": "code",
   "execution_count": 44,
   "metadata": {},
   "outputs": [
    {
     "data": {
      "image/png": "[encoded data removed]",
      "text/plain": [
       "<Figure size 700x500 with 1 Axes>"
      ]
     },
     "execution_count": 44,
     "metadata": {},
     "output_type": "execute_result"
    }
   ],
   "source": [
    "plot_histogram(counts)"
   ]
  },
  {
   "cell_type": "markdown",
   "metadata": {},
   "source": [
    "We see that the found solution is mostly the state $|0101\\rangle$ which is the Hartree-Fock solution when the 2-body Hamiltonian is not present. Adding this 2-body physics shifts the energy down a bit by introducing a small contribution of $|1010\\rangle$. The actual statevector has a `-` sign between these two states.\n",
    "\n",
    "\\begin{align}\n",
    "\\alpha_{0101}|0101\\rangle - \\alpha_{1010}|0101\\rangle\n",
    "\\end{align}\n",
    "\n",
    "But this is not something we can know from this. Fortunatly, H2 is a small system which can be solved exactly and we can find out this phase."
   ]
  },
  {
   "cell_type": "markdown",
   "metadata": {},
   "source": [
    "## Exact Solver (optional)\n",
    "\n",
    "If you want to compare the value you get with the VQE algorithm it would be nice to have the exact value. If you were able to implement the `to_matrix()` method for `PauliString` and `LinearCombinaisonPauliString` then you can find the exact value of the ground state. All you need is to diagonalise the matrix reprensenting the whole Hamiltonian and find the lowest eigenvalue! Obviously this will not be possible to do for very large systems."
   ]
  },
  {
   "cell_type": "code",
   "execution_count": 45,
   "metadata": {},
   "outputs": [
    {
     "name": "stdout",
     "output_type": "stream",
     "text": [
      "Ground state vector (exact) :  [-0.        +0.j -0.        +0.j -0.        +0.j -0.        +0.j\n",
      " -0.        +0.j -0.9937604 +0.j  0.        +0.j  0.        +0.j\n",
      "  0.        +0.j  0.        +0.j  0.11153594+0.j -0.        +0.j\n",
      " -0.        +0.j -0.        +0.j -0.        +0.j -0.        +0.j]\n",
      "Ground state energy (electronic, exact) :  -1.8572750302023802\n",
      "Ground state energy (molecular, exact) :  -1.1373060357534004\n"
     ]
    }
   ],
   "source": [
    "hamiltonian_matrix = qubit_hamiltonian.to_matrix()\n",
    "eig_values, eig_vectors = np.linalg.eigh(hamiltonian_matrix)\n",
    "eig_order = np.argsort(eig_values)\n",
    "eig_values = eig_values[eig_order]\n",
    "eig_vectors = eig_vectors[:,eig_order]\n",
    "ground_state_value, ground_state_vector = eig_values[0], eig_vectors[:,0]\n",
    "print('Ground state vector (exact) : ', ground_state_vector)\n",
    "print('Ground state energy (electronic, exact) : ', ground_state_value)\n",
    "print('Ground state energy (molecular, exact) : ', ground_state_value + energy_nuc)"
   ]
  },
  {
   "cell_type": "markdown",
   "metadata": {},
   "source": [
    "Now you can complete the `ExactSolver` in the `Solver.py` file."
   ]
  },
  {
   "cell_type": "code",
   "execution_count": 46,
   "metadata": {},
   "outputs": [],
   "source": [
    "from solver import ExactSolver"
   ]
  },
  {
   "cell_type": "code",
   "execution_count": 47,
   "metadata": {},
   "outputs": [
    {
     "name": "stdout",
     "output_type": "stream",
     "text": [
      "Ground state vector (exact) :  [-0.        +0.j -0.        +0.j -0.        +0.j -0.        +0.j\n",
      " -0.        +0.j -0.9937604 +0.j  0.        +0.j  0.        +0.j\n",
      "  0.        +0.j  0.        +0.j  0.11153594+0.j -0.        +0.j\n",
      " -0.        +0.j -0.        +0.j -0.        +0.j -0.        +0.j]\n",
      "Ground state energy (electronic, exact) :  -1.8572750302023802\n",
      "Ground state energy (molecular, exact) :  -1.1373060357534004\n"
     ]
    }
   ],
   "source": [
    "%autoreload\n",
    "exact_solver = ExactSolver()\n",
    "ground_state_value, ground_state_vector = exact_solver.lowest_eig_value(qubit_hamiltonian) , exact_solver.last_opt_params\n",
    "print('Ground state vector (exact) : ', ground_state_vector)\n",
    "print('Ground state energy (electronic, exact) : ', ground_state_value)\n",
    "print('Ground state energy (molecular, exact) : ', ground_state_value + energy_nuc)"
   ]
  },
  {
   "cell_type": "markdown",
   "metadata": {},
   "source": [
    "What are the two basis states involved in the ground state? Let's plot the state vector using `matplotlib`."
   ]
  },
  {
   "cell_type": "code",
   "execution_count": 48,
   "metadata": {},
   "outputs": [],
   "source": [
    "import matplotlib.pyplot as plt"
   ]
  },
  {
   "cell_type": "code",
   "execution_count": 49,
   "metadata": {},
   "outputs": [
    {
     "data": {
      "image/png": "[encoded data removed]",
      "text/plain": [
       "<Figure size 640x480 with 1 Axes>"
      ]
     },
     "metadata": {},
     "output_type": "display_data"
    }
   ],
   "source": [
    "fig,ax = plt.subplots(1,1)\n",
    "i_max = np.argmax(np.abs(ground_state_vector))\n",
    "state = ground_state_vector * np.sign(ground_state_vector[i_max])\n",
    "ax.bar(range(len(state)),np.abs(state),color=(np.real(state) > 0).choose(['r','b']))\n",
    "plt.xticks(range(len(state)),[f\"{i:04b}\" for i in range(len(state))], size='small',rotation=60);"
   ]
  },
  {
   "cell_type": "markdown",
   "metadata": {},
   "source": [
    "# What's next?\n",
    "\n",
    "Now that you can find the ground state for a specific H2 molecule configuration (`d = 0.735`), you should be able to do that for many configurations, say `d = 0.2` to `2.5`. Doing that will enable you to plot the so-called dissociation curve : energy vs distance. Do not forget to include the Coulomb repulsion energy of the nucleus!\n",
    "\n",
    "You could also run your algorithm on a noisy backend, either a noisy simulator or a real quantum computer. You've already seen on day 1 how to set/get a noisy backend. You'll see that noise messes things up pretty bad.\n",
    "\n",
    "Running on real machine will introduce the problem of the qubit layout. You might want to change the `initial_layout` in the `execute_opts` so that your `varform` is not applying CNOT gates between qubits that are not connected. You know this needs to insert SWAP gates and this introduces more noise. Also covered in day 1.\n",
    "\n",
    "To limit the effect of readout noise, you could add a `measure_filter` to your `evaluator`, so that each time you execute the `eval_circuits` you apply the filter to the results. Also covered in day 1.\n",
    "\n",
    "Implement the simulatneous evaluation for bitwise commuting cliques or even for general commuting cliques."
   ]
  },
  {
   "cell_type": "markdown",
   "metadata": {},
   "source": [
    "Notebook by **Maxime Dion** <maxime.dion@usherbrooke.ca><br>\n",
    "For the QSciTech-QuantumBC virtual workshop on gate-based quantum computing"
   ]
  },
  {
   "cell_type": "markdown",
   "metadata": {},
   "source": [
    "# Hamiltonian: \n",
    "\n",
    "## JordanWigner mapping:"
   ]
  },
  {
   "cell_type": "code",
   "execution_count": 181,
   "metadata": {},
   "outputs": [
    {
     "name": "stdout",
     "output_type": "stream",
     "text": [
      "15 pauli strings for 4 qubits (Real, Imaginary)\n",
      "IIII (-0.81055,+0.00000)\n",
      "IIIZ (+0.17218,+0.00000)\n",
      "IIZI (-0.22575,+0.00000)\n",
      "IIZZ (+0.12091,+0.00000)\n",
      "IZII (+0.17218,+0.00000)\n",
      "IZIZ (+0.16893,+0.00000)\n",
      "ZIII (-0.22575,+0.00000)\n",
      "IZZI (+0.16615,+0.00000)\n",
      "ZIIZ (+0.16615,+0.00000)\n",
      "ZIZI (+0.17464,+0.00000)\n",
      "ZZII (+0.12091,+0.00000)\n",
      "XXXX (+0.04523,+0.00000)\n",
      "XXYY (+0.04523,+0.00000)\n",
      "YYXX (+0.04523,+0.00000)\n",
      "YYYY (+0.04523,+0.00000)\n"
     ]
    }
   ],
   "source": [
    "mapping = JordanWigner()\n",
    "qubit_hamiltonian_jw = mapping.fermionic_hamiltonian_to_qubit_hamiltonian(molecular_hamiltonian).apply_threshold().combine().apply_threshold().sort()\n",
    "print(qubit_hamiltonian_jw)"
   ]
  },
  {
   "cell_type": "markdown",
   "metadata": {},
   "source": [
    "## Parity mapping:"
   ]
  },
  {
   "cell_type": "code",
   "execution_count": 182,
   "metadata": {},
   "outputs": [
    {
     "name": "stdout",
     "output_type": "stream",
     "text": [
      "reduced form\n",
      "5 pauli strings for 2 qubits (Real, Imaginary)\n",
      "II (-1.05237,+0.00000)\n",
      "IZ (+0.39794,+0.00000)\n",
      "ZI (-0.39794,+0.00000)\n",
      "ZZ (-0.01128,+0.00000)\n",
      "XX (+0.18093,+0.00000)\n"
     ]
    }
   ],
   "source": [
    "mapping = Parity()\n",
    "qubit_hamiltonian_parity = mapping.fermionic_hamiltonian_to_qubit_hamiltonian(molecular_hamiltonian).apply_threshold().combine().apply_threshold().sort()\n",
    "print('reduced form')\n",
    "zx_bits = qubit_hamiltonian_parity.to_zx_bits()\n",
    "reduced_zx_bits = np.delete(zx_bits , (1,3,5,7),1)\n",
    "qubit_hamiltonian_parity = LinearCombinaisonPauliString.from_zx_bits(reduced_zx_bits , qubit_hamiltonian_parity.coefs*(zx_bits[:,1]*-1 + np.logical_xor(zx_bits[:,1],1)*1))\n",
    "qubit_hamiltonian_parity = qubit_hamiltonian_parity.apply_threshold().combine().apply_threshold().sort()\n",
    "print (qubit_hamiltonian_parity)"
   ]
  },
  {
   "cell_type": "code",
   "execution_count": 52,
   "metadata": {},
   "outputs": [],
   "source": [
    "minimizer_d = lambda fct, start_param_values : minimize(\n",
    "    fct,\n",
    "    start_param_values,\n",
    "    method = 'SLSQP',\n",
    "    options = {'maxiter' : 5, 'eps' : 1e-1, 'ftol' : 1e-4, 'disp' : True, 'iprint' : 0})"
   ]
  },
  {
   "cell_type": "markdown",
   "metadata": {
    "tags": []
   },
   "source": [
    "## BasicEstimator:\n",
    "\n",
    "Here we run the basicestimator with two different  mapping on `qasm_simulator`"
   ]
  },
  {
   "cell_type": "code",
   "execution_count": 197,
   "metadata": {},
   "outputs": [
    {
     "name": "stdout",
     "output_type": "stream",
     "text": [
      "0.129080\n",
      "(-1.8394416599500343+0j)\n",
      "0.028003\n",
      "(-1.826719934965206+0j)\n"
     ]
    }
   ],
   "source": [
    "%autoreload\n",
    "#JW-mapping:\n",
    "varform_jw = varform_4qubits_1param\n",
    "backend = qasm_simulator\n",
    "execute_opts = {'shots' : 2048}\n",
    "estimator_basic_jw = BasicEstimator(varform_jw, backend,execute_opts = execute_opts)\n",
    "estimator_basic_jw.set_observable(qubit_hamiltonian_jw)\n",
    "params = [0,]\n",
    "expected_value = estimator_basic_jw.eval(params)\n",
    "print(expected_value)\n",
    "\n",
    "\n",
    "#parity-mapping:\n",
    "\n",
    "varform_p = varform_2qubits_1param\n",
    "backend = qasm_simulator\n",
    "execute_opts = {'shots' : 2048}\n",
    "estimator_basic_par = BasicEstimator(varform_p, backend,execute_opts = execute_opts)\n",
    "estimator_basic_par.set_observable(qubit_hamiltonian_parity)\n",
    "params = [0,]\n",
    "expected_value = estimator_basic_par.eval(params)\n",
    "print(expected_value)"
   ]
  },
  {
   "cell_type": "code",
   "execution_count": 198,
   "metadata": {},
   "outputs": [
    {
     "name": "stdout",
     "output_type": "stream",
     "text": [
      "0.127027\n",
      "0.103022\n",
      "0.113025\n",
      "0.103022\n",
      "0.103023\n",
      "0.100022\n",
      "0.102023\n",
      "0.101023\n",
      "0.102022\n",
      "0.104023\n",
      "0.103950\n",
      "0.105023\n",
      "0.104023\n",
      "0.101022\n",
      "0.453604\n",
      "Ground state position estimate (vqe) :  [-0.25848847]\n",
      "Ground state energy estimate (electronic, vqe) :  (-1.8549851950094962+0j)\n",
      "Ground state energy estimate (molecular, vqe) :  (-1.1350162005605164+0j)\n"
     ]
    }
   ],
   "source": [
    "vqe_solver_basic_jw = VQESolver(estimator_basic_jw,minimizer_d,[0,],name = 'vqe_solver')\n",
    "opt_value = vqe_solver_basic_jw.lowest_eig_value(qubit_hamiltonian_jw)\n",
    "print('Ground state position estimate (vqe) : ', vqe_solver.last_opt_params)\n",
    "print('Ground state energy estimate (electronic, vqe) : ', opt_value)\n",
    "print('Ground state energy estimate (molecular, vqe) : ', opt_value + energy_nuc)"
   ]
  },
  {
   "cell_type": "code",
   "execution_count": 199,
   "metadata": {},
   "outputs": [
    {
     "name": "stdout",
     "output_type": "stream",
     "text": [
      "0.039009\n",
      "0.030007\n",
      "0.032018\n",
      "0.027509\n",
      "0.026006\n",
      "0.026006\n",
      "0.026006\n",
      "0.025512\n",
      "0.027005\n",
      "0.028007\n",
      "0.026006\n",
      "0.025005\n",
      "0.026006\n",
      "0.027010\n",
      "0.025005\n",
      "0.026006\n",
      "0.026006\n",
      "Ground state position estimate (vqe) :  [-0.25848847]\n",
      "Ground state energy estimate (electronic, vqe) :  (-1.8429754724458205+0j)\n",
      "Ground state energy estimate (molecular, vqe) :  (-1.123006477996841+0j)\n"
     ]
    }
   ],
   "source": [
    "vqe_solver_basic_par = VQESolver(estimator_basic_par,minimizer_d,[0,],name = 'vqe_solver')\n",
    "opt_value = vqe_solver_basic_par.lowest_eig_value(qubit_hamiltonian_parity)\n",
    "print('Ground state position estimate (vqe) : ', vqe_solver.last_opt_params)\n",
    "print('Ground state energy estimate (electronic, vqe) : ', opt_value)\n",
    "print('Ground state energy estimate (molecular, vqe) : ', opt_value + energy_nuc)"
   ]
  },
  {
   "cell_type": "markdown",
   "metadata": {
    "tags": []
   },
   "source": [
    "## Bitwise estimator:\n",
    "\n",
    "\n",
    "Here we run the `BitwiseCommutingCliqueEstimator` with two different  mapping on `qasm_simulator`"
   ]
  },
  {
   "cell_type": "code",
   "execution_count": 200,
   "metadata": {},
   "outputs": [
    {
     "name": "stdout",
     "output_type": "stream",
     "text": [
      "0.049011\n",
      "(-1.8391766240128506+0j)\n",
      "0.013002\n",
      "(-1.8302537474609917+0j)\n"
     ]
    }
   ],
   "source": [
    "%autoreload\n",
    "#JW-mapping\n",
    "\n",
    "varform_jw = varform_4qubits_1param\n",
    "backend = qasm_simulator\n",
    "execute_opts = {'shots' : 2048}\n",
    "estimator_bitwise_jw = BitwiseCommutingCliqueEstimator(varform_jw, backend,execute_opts = execute_opts)\n",
    "estimator_bitwise_jw.set_observable(qubit_hamiltonian_jw)\n",
    "params = [0,]\n",
    "expected_value = estimator_bitwise_jw.eval(params)\n",
    "print(expected_value)\n",
    "\n",
    "#parity-mapping\n",
    "\n",
    "varform_p = varform_2qubits_1param\n",
    "backend = qasm_simulator\n",
    "execute_opts = {'shots' : 2048}\n",
    "estimator_bitwise_par = BitwiseCommutingCliqueEstimator(varform_p, backend,execute_opts = execute_opts)\n",
    "estimator_bitwise_par.set_observable(qubit_hamiltonian_parity)\n",
    "params = [0,0,0]\n",
    "expected_value = estimator_bitwise_par.eval(params)\n",
    "print(expected_value)"
   ]
  },
  {
   "cell_type": "code",
   "execution_count": 201,
   "metadata": {},
   "outputs": [
    {
     "data": {
      "text/plain": [
       "[<qiskit.circuit.quantumcircuit.QuantumCircuit at 0x18821d41e50>,\n",
       " <qiskit.circuit.quantumcircuit.QuantumCircuit at 0x18821d41400>]"
      ]
     },
     "execution_count": 201,
     "metadata": {},
     "output_type": "execute_result"
    }
   ],
   "source": [
    "estimator_bitwise_par.diagonalizing_circuits"
   ]
  },
  {
   "cell_type": "code",
   "execution_count": 202,
   "metadata": {},
   "outputs": [
    {
     "name": "stdout",
     "output_type": "stream",
     "text": [
      "0.057013\n",
      "0.048011\n",
      "0.047010\n",
      "0.045010\n",
      "0.046010\n",
      "0.048011\n",
      "0.048010\n",
      "0.045010\n",
      "0.045010\n",
      "0.046010\n",
      "0.048036\n",
      "0.067015\n",
      "0.051011\n",
      "0.049011\n",
      "0.048011\n",
      "0.049011\n",
      "0.048011\n",
      "0.048010\n",
      "0.048011\n",
      "0.048458\n",
      "Ground state position estimate (vqe) :  [-0.25848847]\n",
      "Ground state energy estimate (electronic, vqe) :  (-1.8356623609729075+0j)\n",
      "Ground state energy estimate (molecular, vqe) :  (-1.115693366523928+0j)\n"
     ]
    }
   ],
   "source": [
    "vqe_solver_bitwise_jw = VQESolver(estimator_bitwise_jw,minimizer_d,[0,],name = 'vqe_solver')\n",
    "opt_value = vqe_solver_bitwise_jw.lowest_eig_value(qubit_hamiltonian_jw)\n",
    "print('Ground state position estimate (vqe) : ', vqe_solver.last_opt_params)\n",
    "print('Ground state energy estimate (electronic, vqe) : ', opt_value)\n",
    "print('Ground state energy estimate (molecular, vqe) : ', opt_value + energy_nuc)"
   ]
  },
  {
   "cell_type": "code",
   "execution_count": 203,
   "metadata": {},
   "outputs": [
    {
     "name": "stdout",
     "output_type": "stream",
     "text": [
      "0.013003\n",
      "0.016004\n",
      "0.013002\n",
      "0.014003\n",
      "0.014004\n",
      "Ground state position estimate (vqe) :  [-0.25848847]\n",
      "Ground state energy estimate (electronic, vqe) :  (-1.8429754724458205+0j)\n",
      "Ground state energy estimate (molecular, vqe) :  (-1.123006477996841+0j)\n"
     ]
    }
   ],
   "source": [
    "vqe_solver_bitwise_par = VQESolver(estimator_bitwise_par,minimizer_d,[0,],name = 'vqe_solver')\n",
    "opt_value = vqe_solver_bitwise_par.lowest_eig_value(qubit_hamiltonian_parity)\n",
    "print('Ground state position estimate (vqe) : ', vqe_solver.last_opt_params)\n",
    "print('Ground state energy estimate (electronic, vqe) : ', opt_value)\n",
    "print('Ground state energy estimate (molecular, vqe) : ', opt_value + energy_nuc)"
   ]
  },
  {
   "cell_type": "markdown",
   "metadata": {},
   "source": [
    "## General estimator:\n",
    "\n",
    "\n",
    "Here we run the `GeneralCommutingCliqueEstimator` with JordanWigner  mapping on `qasm_simulator`"
   ]
  },
  {
   "cell_type": "code",
   "execution_count": 204,
   "metadata": {},
   "outputs": [
    {
     "name": "stdout",
     "output_type": "stream",
     "text": [
      "0.019004\n",
      "(-1.8387348974508773+0j)\n"
     ]
    }
   ],
   "source": [
    "%autoreload\n",
    "#JW-mapping:\n",
    "varform_jw = varform_4qubits_1param\n",
    "backend = qasm_simulator\n",
    "execute_opts = {'shots' : 2048}\n",
    "estimator_general_jw = GeneralCommutingCliqueEstimator(varform_jw, backend,execute_opts = execute_opts)\n",
    "estimator_general_jw.set_observable(qubit_hamiltonian_jw)\n",
    "params = [0,]\n",
    "expected_value = estimator_general_jw.eval(params)\n",
    "print(expected_value)"
   ]
  },
  {
   "cell_type": "code",
   "execution_count": 205,
   "metadata": {},
   "outputs": [
    {
     "name": "stdout",
     "output_type": "stream",
     "text": [
      "0.018003\n",
      "0.014004\n",
      "0.015003\n",
      "0.013002\n",
      "Ground state position estimate (vqe) :  [-0.25848847]\n",
      "Ground state energy estimate (electronic, vqe) :  (-1.8545741972143344+0j)\n",
      "Ground state energy estimate (molecular, vqe) :  (-1.1346052027653548+0j)\n"
     ]
    }
   ],
   "source": [
    "vqe_solver_general_jw = VQESolver(estimator_general_jw,minimizer_d,[0,],name = 'vqe_solver')\n",
    "opt_value = vqe_solver_general_jw.lowest_eig_value(qubit_hamiltonian_jw)\n",
    "print('Ground state position estimate (vqe) : ', vqe_solver.last_opt_params)\n",
    "print('Ground state energy estimate (electronic, vqe) : ', opt_value)\n",
    "print('Ground state energy estimate (molecular, vqe) : ', opt_value + energy_nuc)"
   ]
  },
  {
   "cell_type": "markdown",
   "metadata": {},
   "source": [
    "## plotting the results:"
   ]
  },
  {
   "cell_type": "code",
   "execution_count": 207,
   "metadata": {},
   "outputs": [
    {
     "data": {
      "image/png": "[encoded data removed]",
      "text/plain": [
       "<Figure size 711.111x400 with 1 Axes>"
      ]
     },
     "metadata": {},
     "output_type": "display_data"
    }
   ],
   "source": [
    "from matplotlib import pyplot as plt\n",
    "\n",
    "N = 5\n",
    "one_run = (0.1283902667, 0.0276326875, 0.0489845, 0.0140032, 0.015003)\n",
    "total_VQE = (1.925854, 0.468129, 0.97969, 0.070016, 0.060012)\n",
    "number_circ = np.array((15, 5, 5, 2, 2))\n",
    "number_iter = np.array((15, 27, 11, 22, 12))\n",
    "ind = np.arange(N)    # the x locations for the groups\n",
    "width = 0.4       # the width of the bars: can also be len(x) sequence\n",
    "\n",
    "fig, ax = plt.subplots(figsize =(4*16/9 , 4))\n",
    "\n",
    "p2 = ax.bar(ind, total_VQE, width,  label='Total VQE runtime' )\n",
    "p1 = ax.bar(ind, one_run, width, label='single iteration runtime'  )\n",
    "p3 = ax.bar(ind+0.42, number_circ*0.1, width,  label='Total number of circuits' , color = 'lightseagreen')\n",
    "#p4 = ax.bar(ind+0.4, number_iter*0.1, width, label='Total number of iteration')\n",
    "\n",
    "\n",
    "#p1 = ax.bar(ind, one_run, width, yerr=menStd, label='single iteration runtime')\n",
    "#p2 = ax.bar(ind, total_VQE, width,\n",
    "#            bottom=menMeans, yerr=womenStd, label='Total VQE runtime')\n",
    "\n",
    "ax.axhline(0, color='grey', linewidth=0.8)\n",
    "ax.set_ylabel('Runtime [s]' , fontsize = 13)\n",
    "ax.set_title('VQE runtime for H2 molecule with d = 0.735 A')\n",
    "ax.set_xticks(ind+0.2, labels=['Basic JW', 'Basic Parity', 'Bitwise JW', 'Bitwise Parity', 'General JW'])\n",
    "ax.legend()\n",
    "\n",
    "# Label with label_type 'center' instead of the default 'edge'\n",
    "#ax.bar_label(p1, label_type='center')\n",
    "#ax.bar_label(p2, label_type='center')\n",
    "#ax.bar_label(p2)\n",
    "#ax.bar_label(p1)\n",
    "ax.bar_label(p3 , number_circ)\n",
    "ax.set_ylim(0,2)\n",
    "plt.savefig('barplot',dpi = 150 , bbox_inches = 'tight', edgecolor='none',facecolor = 'none')\n",
    "plt.show()\n"
   ]
  },
  {
   "cell_type": "markdown",
   "metadata": {},
   "source": [
    "## Running on Quantum computer:\n",
    "\n",
    "### Basicestimator:"
   ]
  },
  {
   "cell_type": "code",
   "execution_count": 187,
   "metadata": {},
   "outputs": [
    {
     "name": "stderr",
     "output_type": "stream",
     "text": [
      "ibmqfactory.load_account:WARNING:2023-02-08 22:29:49,529: Credentials are already in use. The existing account in the session will be replaced.\n"
     ]
    },
    {
     "data": {
      "text/plain": [
       "<AccountProvider for IBMQ(hub='ibm-q', group='open', project='main')>"
      ]
     },
     "execution_count": 187,
     "metadata": {},
     "output_type": "execute_result"
    }
   ],
   "source": [
    "from qiskit import IBMQ\n",
    "\n",
    "IBMQ.load_account()"
   ]
  },
  {
   "cell_type": "code",
   "execution_count": 189,
   "metadata": {},
   "outputs": [
    {
     "data": {
      "text/plain": [
       "[<IBMQSimulator('ibmq_qasm_simulator') from IBMQ(hub='ibm-q-qida', group='pinq2', project='winter-school')>,\n",
       " <IBMQSimulator('simulator_statevector') from IBMQ(hub='ibm-q-qida', group='pinq2', project='winter-school')>,\n",
       " <IBMQBackend('ibmq_jakarta') from IBMQ(hub='ibm-q-qida', group='pinq2', project='winter-school')>,\n",
       " <IBMQBackend('ibm_lagos') from IBMQ(hub='ibm-q-qida', group='pinq2', project='winter-school')>,\n",
       " <IBMQBackend('ibm_nairobi') from IBMQ(hub='ibm-q-qida', group='pinq2', project='winter-school')>,\n",
       " <IBMQBackend('ibm_perth') from IBMQ(hub='ibm-q-qida', group='pinq2', project='winter-school')>,\n",
       " <IBMQBackend('ibm_oslo') from IBMQ(hub='ibm-q-qida', group='pinq2', project='winter-school')>]"
      ]
     },
     "execution_count": 189,
     "metadata": {},
     "output_type": "execute_result"
    }
   ],
   "source": [
    "provider = IBMQ.get_provider(hub='ibm-q-qida', group='pinq2', project='winter-school')\n",
    "provider.backends()"
   ]
  },
  {
   "cell_type": "code",
   "execution_count": 190,
   "metadata": {},
   "outputs": [],
   "source": [
    "oslo = provider.get_backend('ibm_oslo')"
   ]
  },
  {
   "cell_type": "code",
   "execution_count": 191,
   "metadata": {},
   "outputs": [
    {
     "name": "stderr",
     "output_type": "stream",
     "text": [
      "C:\\Users\\Mohammad\\anaconda3\\envs\\winterschool\\lib\\site-packages\\qiskit\\execute_function.py:375: UserWarning: execute_opts is not a recognized runtime option and may be ignored by the backend.\n",
      "  job = backend.run(experiments, **run_kwargs)\n"
     ]
    },
    {
     "name": "stdout",
     "output_type": "stream",
     "text": [
      "1079.227809\n",
      "(-1.6863809318980827+0j)\n",
      "1381.277002\n",
      "1369.608036\n"
     ]
    },
    {
     "name": "stderr",
     "output_type": "stream",
     "text": [
      "C:\\Users\\Mohammad\\anaconda3\\envs\\winterschool\\lib\\site-packages\\scipy\\optimize\\_numdiff.py:598: ComplexWarning: Casting complex values to real discards the imaginary part\n",
      "  J_transposed[i] = df / dx\n",
      "C:\\Users\\Mohammad\\anaconda3\\envs\\winterschool\\lib\\site-packages\\scipy\\optimize\\_slsqp_py.py:422: ComplexWarning: Casting complex values to real discards the imaginary part\n",
      "  slsqp(m, meq, x, xl, xu, fx, c, g, a, acc, majiter, mode, w, jw,\n"
     ]
    },
    {
     "name": "stdout",
     "output_type": "stream",
     "text": [
      "428.949795\n",
      "261.025754\n",
      "1759.110596\n",
      "139.910114\n",
      "1011.627608\n",
      "838.443811\n",
      "422.224327\n",
      "3810.107464\n",
      "28318.580082\n",
      "169.427836\n",
      "4985.479229\n",
      "1489.023551\n",
      "9891.709819\n",
      "2139.916983\n",
      "39.375382\n",
      "1560.238402\n",
      "60.288403\n",
      "Ground state position estimate (vqe) :  [-0.25848847]\n",
      "Ground state energy estimate (electronic, vqe) :  (-1.696240557470925+0j)\n",
      "Ground state energy estimate (molecular, vqe) :  (-0.9762715630219453+0j)\n"
     ]
    }
   ],
   "source": [
    "%autoreload\n",
    "#JW-mapping:\n",
    "varform_jw = varform_4qubits_1param\n",
    "backend = oslo\n",
    "execute_opts = {'shots' : 2048}\n",
    "estimator_basic_jw = BasicEstimator(varform_jw, backend,execute_opts = execute_opts)\n",
    "estimator_basic_jw.set_observable(qubit_hamiltonian_jw)\n",
    "params = [0,]\n",
    "expected_value = estimator_basic_jw.eval(params)\n",
    "print(expected_value)\n",
    "\n",
    "vqe_solver_basic_jw = VQESolver(estimator_basic_jw,minimizer_d,[0,],name = 'vqe_solver')\n",
    "opt_value = vqe_solver_basic_jw.lowest_eig_value(qubit_hamiltonian_jw)\n",
    "print('Ground state position estimate (vqe) : ', vqe_solver.last_opt_params)\n",
    "print('Ground state energy estimate (electronic, vqe) : ', opt_value)\n",
    "print('Ground state energy estimate (molecular, vqe) : ', opt_value + energy_nuc)"
   ]
  },
  {
   "cell_type": "code",
   "execution_count": 192,
   "metadata": {},
   "outputs": [
    {
     "name": "stdout",
     "output_type": "stream",
     "text": [
      "37.889936\n",
      "(-1.7928108871843953+0j)\n",
      "19.934136\n",
      "20.127126\n",
      "20.018055\n",
      "359.861345\n",
      "40.209965\n",
      "2164.575511\n",
      "48.073636\n",
      "1073.258049\n",
      "49.772781\n",
      "29.906650\n",
      "19.890822\n",
      "2462.276356\n",
      "717.193170\n",
      "50.007493\n",
      "19.975057\n",
      "Ground state position estimate (vqe) :  [-0.25848847]\n",
      "Ground state energy estimate (electronic, vqe) :  (-1.810159352732833+0j)\n",
      "Ground state energy estimate (molecular, vqe) :  (-1.0901903582838535+0j)\n"
     ]
    }
   ],
   "source": [
    "#parity-mapping:\n",
    "\n",
    "varform_p = varform_2qubits_1param\n",
    "backend = oslo\n",
    "execute_opts = {'shots' : 2048}\n",
    "estimator_basic_par = BasicEstimator(varform_p, backend,execute_opts = execute_opts)\n",
    "estimator_basic_par.set_observable(qubit_hamiltonian_parity)\n",
    "params = [0,]\n",
    "expected_value = estimator_basic_par.eval(params)\n",
    "print(expected_value)\n",
    "vqe_solver_basic_par = VQESolver(estimator_basic_par,minimizer_d,[0,],name = 'vqe_solver')\n",
    "opt_value = vqe_solver_basic_par.lowest_eig_value(qubit_hamiltonian_parity)\n",
    "print('Ground state position estimate (vqe) : ', vqe_solver.last_opt_params)\n",
    "print('Ground state energy estimate (electronic, vqe) : ', opt_value)\n",
    "print('Ground state energy estimate (molecular, vqe) : ', opt_value + energy_nuc)"
   ]
  },
  {
   "cell_type": "markdown",
   "metadata": {},
   "source": [
    "### bitwise estimator: "
   ]
  },
  {
   "cell_type": "code",
   "execution_count": 195,
   "metadata": {},
   "outputs": [
    {
     "name": "stdout",
     "output_type": "stream",
     "text": [
      "265.308101\n",
      "(-1.6906664582281412+0j)\n",
      "426.882316\n",
      "873.310660\n",
      "48.216330\n",
      "551.681726\n",
      "389.917047\n",
      "767.196309\n",
      "434.917730\n",
      "588.541440\n",
      "886.021122\n",
      "393.711483\n",
      "52.309477\n",
      "54.010695\n",
      "53.660078\n",
      "341.353274\n",
      "615.042941\n",
      "Ground state position estimate (vqe) :  [-0.25848847]\n",
      "Ground state energy estimate (electronic, vqe) :  (-1.6949894919505517+0j)\n",
      "Ground state energy estimate (molecular, vqe) :  (-0.975020497501572+0j)\n"
     ]
    }
   ],
   "source": [
    "%autoreload\n",
    "#JW-mapping\n",
    "\n",
    "varform_jw = varform_4qubits_1param\n",
    "backend = oslo\n",
    "execute_opts = {'shots' : 2048}\n",
    "estimator_bitwise_jw = BitwiseCommutingCliqueEstimator(varform_jw, backend,execute_opts = execute_opts)\n",
    "estimator_bitwise_jw.set_observable(qubit_hamiltonian_jw)\n",
    "params = [0,]\n",
    "expected_value = estimator_bitwise_jw.eval(params)\n",
    "print(expected_value)\n",
    "vqe_solver_bitwise_jw = VQESolver(estimator_bitwise_jw,minimizer_d,[0,],name = 'vqe_solver')\n",
    "opt_value = vqe_solver_bitwise_jw.lowest_eig_value(qubit_hamiltonian_jw)\n",
    "print('Ground state position estimate (vqe) : ', vqe_solver.last_opt_params)\n",
    "print('Ground state energy estimate (electronic, vqe) : ', opt_value)\n",
    "print('Ground state energy estimate (molecular, vqe) : ', opt_value + energy_nuc)"
   ]
  },
  {
   "cell_type": "code",
   "execution_count": null,
   "metadata": {},
   "outputs": [],
   "source": [
    "#parity-mapping\n",
    "\n",
    "varform_p = varform_2qubits_1param\n",
    "backend = oslo\n",
    "execute_opts = {'shots' : 2048}\n",
    "estimator_bitwise_par = BitwiseCommutingCliqueEstimator(varform_p, backend,execute_opts = execute_opts)\n",
    "estimator_bitwise_par.set_observable(qubit_hamiltonian_parity)\n",
    "params = [0,]\n",
    "expected_value = estimator_bitwise_par.eval(params)\n",
    "print(expected_value)\n",
    "vqe_solver_bitwise_par = VQESolver(estimator_bitwise_par,minimizer_d,[0,],name = 'vqe_solver')\n",
    "opt_value = vqe_solver_bitwise_par.lowest_eig_value(qubit_hamiltonian_parity)\n",
    "print('Ground state position estimate (vqe) : ', vqe_solver.last_opt_params)\n",
    "print('Ground state energy estimate (electronic, vqe) : ', opt_value)\n",
    "print('Ground state energy estimate (molecular, vqe) : ', opt_value + energy_nuc)"
   ]
  },
  {
   "cell_type": "markdown",
   "metadata": {},
   "source": [
    "### General estimator:"
   ]
  },
  {
   "cell_type": "code",
   "execution_count": null,
   "metadata": {},
   "outputs": [],
   "source": [
    "%autoreload\n",
    "#JW-mapping:\n",
    "varform_jw = varform_4qubits_1param\n",
    "backend = oslo\n",
    "execute_opts = {'shots' : 2048}\n",
    "estimator_general_jw = GeneralCommutingCliqueEstimator(varform_jw, backend,execute_opts = execute_opts)\n",
    "estimator_general_jw.set_observable(qubit_hamiltonian_jw)\n",
    "params = [0,]\n",
    "expected_value = estimator_general_jw.eval(params)\n",
    "print(expected_value)\n",
    "vqe_solver_general_jw = VQESolver(estimator_general_jw,minimizer_d,[0,],name = 'vqe_solver')\n",
    "opt_value = vqe_solver_general_jw.lowest_eig_value(qubit_hamiltonian_jw)\n",
    "print('Ground state position estimate (vqe) : ', vqe_solver.last_opt_params)\n",
    "print('Ground state energy estimate (electronic, vqe) : ', opt_value)\n",
    "print('Ground state energy estimate (molecular, vqe) : ', opt_value + energy_nuc)"
   ]
  },
  {
   "cell_type": "code",
   "execution_count": null,
   "metadata": {},
   "outputs": [],
   "source": [
    "%autoreload\n",
    "from pyscf import gto\n",
    "import qiskit_aer.noise as noise\n",
    "from qiskit_ibm_runtime import Options, QiskitRuntimeService, Sampler\n",
    "\n",
    "mapping = JordanWigner()\n",
    "\n",
    "varform = varform_4qubits_1param\n",
    "backend = qasm_simulator\n",
    "execute_opts = {'shots' : 2048}\n",
    "Nd = 50  # length of distance array\n",
    "\n",
    "'''only quantum error'''\n",
    "# Error probabilities\n",
    "prob_1 = 0.01  # 1-qubit gate\n",
    "prob_2 = 0.05   # 2-qubit gate\n",
    "# Depolarizing quantum errors\n",
    "error_1 = noise.depolarizing_error(prob_1, 1)\n",
    "error_2 = noise.depolarizing_error(prob_2, 2)\n",
    "# Add errors to noise model\n",
    "quan_noise_model = noise.NoiseModel()\n",
    "quan_noise_model.add_all_qubit_quantum_error(error_1, ['u1', 'u2', 'u3'])\n",
    "quan_noise_model.add_all_qubit_quantum_error(error_2, ['cx'])\n",
    "quan_noisy_exe_opts = {'shots' : 2048, 'noise_model' : quan_noise_model}\n",
    "\n",
    "'''adding readout error'''\n",
    "# Error probabilities\n",
    "p_err = 0.15  # probability of reading something else\n",
    "# building error matrix assuming uniform distribution of errors\n",
    "error_matrix = p_err * np.ones((16, 16)) / 15 + (1 - 16*p_err/15) * np.eye(16)\n",
    "readout_err = noise.ReadoutError(error_matrix)\n",
    "# Add errors to noise model\n",
    "full_noise_model = noise.NoiseModel()\n",
    "full_noise_model.add_all_qubit_quantum_error(error_1, ['u1', 'u2', 'u3'])\n",
    "full_noise_model.add_all_qubit_quantum_error(error_2, ['cx'])\n",
    "full_noise_model.add_readout_error(readout_err, range(4))\n",
    "full_noisy_exe_opts = {'shots' : 2048, 'noise_model' : full_noise_model}\n",
    "\n",
    "# generating the estimators\n",
    "estimator = BasicEstimator(varform, backend, execute_opts=execute_opts)\n",
    "quan_noisy_estimator = BasicEstimator(varform, backend, execute_opts=quan_noisy_exe_opts)\n",
    "full_noisy_estimator = BasicEstimator(varform, backend, execute_opts=full_noisy_exe_opts)\n",
    "miti_noisy_estimator = BasicEstimator(varform, backend, execute_opts=full_noisy_exe_opts, mitigate=True)\n",
    "\n",
    "# computation\n",
    "distance = np.linspace(0.3, 2.5, Nd) #units in AA\n",
    "E_exact = np.zeros(len(distance))\n",
    "E = np.zeros(len(distance))\n",
    "E_quan_noisy = np.zeros(len(distance))\n",
    "E_full_noisy = np.zeros(len(distance))\n",
    "E_miti_noisy = np.zeros(len(distance))\n",
    "\n",
    "for i in range(len(distance)):\n",
    "    mol_d = gto.M(\n",
    "            atom = [['H', (0,0,-distance[i]/2)], ['H', (0,0,distance[i]/2)]], \n",
    "            basis = 'sto-3g'\n",
    "            )\n",
    "    \n",
    "    molecular_hamiltonian_no_spin_d = MolecularFermionicHamiltonian.from_pyscf_mol(mol_d)\n",
    "    molecular_hamiltonian_d = molecular_hamiltonian_no_spin_d.include_spin()\n",
    "    qubit_hamiltonian_d = mapping.fermionic_hamiltonian_to_qubit_hamiltonian(molecular_hamiltonian_d).apply_threshold().combine().apply_threshold().sort()\n",
    "    \n",
    "    h1_no_spin_d, h2_no_spin_d = molecular_hamiltonian_no_spin_d.get_integrals()\n",
    "    Eg = h1_no_spin_d[0, 0]\n",
    "    Eu = h1_no_spin_d[1, 1]\n",
    "    Ug = h2_no_spin_d[0, 0, 0, 0]\n",
    "    Uu = h2_no_spin_d[1, 1, 1, 1]    \n",
    "    Vd = h2_no_spin_d[1, 0, 0, 1]\n",
    "    Vx = h2_no_spin_d[1, 0, 1, 0]\n",
    "    \n",
    "    estimator.set_observable(qubit_hamiltonian_d)    \n",
    "    quan_noisy_estimator.set_observable(qubit_hamiltonian_d)\n",
    "    full_noisy_estimator.set_observable(qubit_hamiltonian_d)\n",
    "    miti_noisy_estimator.set_observable(qubit_hamiltonian_d)\n",
    "    \n",
    "    vqe_solver = VQESolver(estimator, minimizer_d, [0,], name='vqe_solver')\n",
    "    quan_noisy_vqe_solver = VQESolver(quan_noisy_estimator, minimizer_d, [0,], name='vqe_solver')\n",
    "    full_noisy_vqe_solver = VQESolver(full_noisy_estimator, minimizer_d, [0,], name='vqe_solver')\n",
    "    miti_noisy_vqe_solver = VQESolver(miti_noisy_estimator, minimizer_d, [0,], name='vqe_solver')\n",
    "\n",
    "    A = 2*Eg + Ug\n",
    "    B = 2*Eu + Uu\n",
    "    E_exact[i] = 0.5 * (A + B - np.sqrt((A - B)**2 + 4*Vx**2)) + mol_d.energy_nuc()    \n",
    "    E[i] = vqe_solver.lowest_eig_value(qubit_hamiltonian_d) + mol_d.energy_nuc()    \n",
    "    E_quan_noisy[i] = quan_noisy_vqe_solver.lowest_eig_value(qubit_hamiltonian_d) + mol_d.energy_nuc()\n",
    "    E_full_noisy[i] = full_noisy_vqe_solver.lowest_eig_value(qubit_hamiltonian_d) + mol_d.energy_nuc()\n",
    "    E_miti_noisy[i] = miti_noisy_vqe_solver.lowest_eig_value(qubit_hamiltonian_d) + mol_d.energy_nuc()\n",
    "    print(i, end=' ')\n",
    "    # print('diff =', E0[i] - E[i])\n",
    "\n",
    "\n",
    "plt.plot(distance, E_full_noisy, 'o', mfc='none', label='full noise')\n",
    "plt.plot(distance, E_quan_noisy, 'x', label='quantum noise')\n",
    "plt.plot(distance, E_miti_noisy, 'v', mfc='none', label='noise mitigated')\n",
    "plt.plot(distance, E, '.', label='no noise')\n",
    "plt.plot(distance, E_exact, label='analytic')\n",
    "plt.xlabel('interatomic distance [$\\AA$]')\n",
    "plt.ylabel('ground state energy')\n",
    "plt.legend()"
   ]
  }
 ],
 "metadata": {
  "kernelspec": {
   "display_name": "Python 3 (ipykernel)",
   "language": "python",
   "name": "python3"
  },
  "language_info": {
   "codemirror_mode": {
    "name": "ipython",
    "version": 3
   },
   "file_extension": ".py",
   "mimetype": "text/x-python",
   "name": "python",
   "nbconvert_exporter": "python",
   "pygments_lexer": "ipython3",
   "version": "3.9.16"
  },
  "toc": {
   "base_numbering": 1,
   "nav_menu": {},
   "number_sections": true,
   "sideBar": true,
   "skip_h1_title": false,
   "title_cell": "Table of Contents",
   "title_sidebar": "Contents",
   "toc_cell": false,
   "toc_position": {},
   "toc_section_display": true,
   "toc_window_display": false
  },
  "toc-autonumbering": true,
  "vscode": {
   "interpreter": {
    "hash": "31f2aee4e71d21fbe5cf8b01ff0e069b9275f58929596ceb00d14d90e3e16cd6"
   }
  }
 },
 "nbformat": 4,
 "nbformat_minor": 4
}
